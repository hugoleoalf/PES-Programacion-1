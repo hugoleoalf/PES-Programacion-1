{
 "cells": [
  {
   "cell_type": "markdown",
   "metadata": {},
   "source": [
    "# Tarea de clase # 1\n",
    "**Programación I**  \n",
    "**Helen Saraí Avila Cabrera**"
   ]
  },
  {
   "cell_type": "markdown",
   "metadata": {},
   "source": [
    "## Ejercicio 1\n",
    "\n",
    "* Asigne valores para ``A`` y ``B``. \n",
    "* Para cada operador (``+``,``-``,``*``,``/``,``/``/,``%``,``**``) haga un ejemplo con los valores asignados previamente. \n",
    "* Utilizando el comando ``print()`` Muestre los valores a operar, la operación y el resultado.  \n"
   ]
  },
  {
   "cell_type": "markdown",
   "metadata": {},
   "source": [
    "Definiendo $$A=10$$  y $$B=4$$"
   ]
  },
  {
   "cell_type": "code",
   "execution_count": 10,
   "metadata": {},
   "outputs": [
    {
     "name": "stdout",
     "output_type": "stream",
     "text": [
      "10\n"
     ]
    }
   ],
   "source": [
    "A=10\n",
    "print(A)"
   ]
  },
  {
   "cell_type": "code",
   "execution_count": 11,
   "metadata": {},
   "outputs": [
    {
     "name": "stdout",
     "output_type": "stream",
     "text": [
      "4\n"
     ]
    }
   ],
   "source": [
    "B=4\n",
    "print(B)"
   ]
  },
  {
   "cell_type": "markdown",
   "metadata": {},
   "source": [
    "# Suma (+)"
   ]
  },
  {
   "cell_type": "code",
   "execution_count": 4,
   "metadata": {},
   "outputs": [
    {
     "name": "stdout",
     "output_type": "stream",
     "text": [
      "A+B =  14\n"
     ]
    }
   ],
   "source": [
    "print(\"A+B = \", A+B)"
   ]
  },
  {
   "cell_type": "markdown",
   "metadata": {},
   "source": [
    "# Resta (-)"
   ]
  },
  {
   "cell_type": "code",
   "execution_count": 6,
   "metadata": {},
   "outputs": [
    {
     "name": "stdout",
     "output_type": "stream",
     "text": [
      "A-B =  6\n"
     ]
    }
   ],
   "source": [
    "print(\"A-B = \",A-B)"
   ]
  },
  {
   "cell_type": "markdown",
   "metadata": {},
   "source": [
    "# Multiplicación (*)"
   ]
  },
  {
   "cell_type": "code",
   "execution_count": 7,
   "metadata": {},
   "outputs": [
    {
     "name": "stdout",
     "output_type": "stream",
     "text": [
      "A*B =  40\n"
     ]
    }
   ],
   "source": [
    "print(\"A*B = \", A*B)"
   ]
  },
  {
   "cell_type": "markdown",
   "metadata": {},
   "source": [
    "# División Float (/)"
   ]
  },
  {
   "cell_type": "code",
   "execution_count": 8,
   "metadata": {},
   "outputs": [
    {
     "name": "stdout",
     "output_type": "stream",
     "text": [
      "A/B =  2.5\n"
     ]
    }
   ],
   "source": [
    "print(\"A/B = \", A/B)"
   ]
  },
  {
   "cell_type": "markdown",
   "metadata": {},
   "source": [
    "# División Entera (//)"
   ]
  },
  {
   "cell_type": "code",
   "execution_count": 9,
   "metadata": {},
   "outputs": [
    {
     "name": "stdout",
     "output_type": "stream",
     "text": [
      "A//B =  2\n"
     ]
    }
   ],
   "source": [
    "print(\"A//B = \", A//B)"
   ]
  },
  {
   "cell_type": "markdown",
   "metadata": {},
   "source": [
    "# Residuo (%)"
   ]
  },
  {
   "cell_type": "code",
   "execution_count": 12,
   "metadata": {},
   "outputs": [
    {
     "name": "stdout",
     "output_type": "stream",
     "text": [
      "A%B =  2\n"
     ]
    }
   ],
   "source": [
    "print(\"A%B = \", A%B)"
   ]
  },
  {
   "cell_type": "markdown",
   "metadata": {},
   "source": [
    "# Potencia (**)"
   ]
  },
  {
   "cell_type": "code",
   "execution_count": 13,
   "metadata": {},
   "outputs": [
    {
     "name": "stdout",
     "output_type": "stream",
     "text": [
      "A**2 =  100\n"
     ]
    }
   ],
   "source": [
    "print(\"A**2 = \", A**2)"
   ]
  },
  {
   "cell_type": "code",
   "execution_count": 14,
   "metadata": {},
   "outputs": [
    {
     "name": "stdout",
     "output_type": "stream",
     "text": [
      "B**3 =  64\n"
     ]
    }
   ],
   "source": [
    "print(\"B**3 = \", B**3)"
   ]
  },
  {
   "cell_type": "markdown",
   "metadata": {},
   "source": [
    "### Subejercicio\n",
    "\n",
    "Cómo usar el operador de resto para determinar si un número es múltiplo de otro. "
   ]
  },
  {
   "cell_type": "code",
   "execution_count": 17,
   "metadata": {},
   "outputs": [
    {
     "name": "stdout",
     "output_type": "stream",
     "text": [
      "x = 12\n",
      "y = 3\n",
      "z = 5\n"
     ]
    }
   ],
   "source": [
    "x=12\n",
    "y=3\n",
    "z=5\n",
    "print(\"x =\", x)\n",
    "print (\"y =\", y)\n",
    "print (\"z =\", z)"
   ]
  },
  {
   "cell_type": "code",
   "execution_count": 19,
   "metadata": {},
   "outputs": [
    {
     "name": "stdout",
     "output_type": "stream",
     "text": [
      "prueba1 = 0\n",
      "prueba2 = 2\n"
     ]
    }
   ],
   "source": [
    "prueba1 = x%y\n",
    "prueba2 = x%z\n",
    "print(\"prueba1 =\", prueba1)\n",
    "print(\"prueba2 =\", prueba2)"
   ]
  },
  {
   "cell_type": "markdown",
   "metadata": {},
   "source": [
    "*Para comprobar si un valor es entero o no, se compararan los resultados con el valor \"0\", en donde si el resultado obtenido es \"True\" quiere decir que tenemos un valor entero*"
   ]
  },
  {
   "cell_type": "code",
   "execution_count": 20,
   "metadata": {},
   "outputs": [
    {
     "name": "stdout",
     "output_type": "stream",
     "text": [
      "prueba1 = True\n",
      "prueba2 = False\n"
     ]
    }
   ],
   "source": [
    "print(\"prueba1 =\", prueba1==0)\n",
    "print(\"prueba2 =\", prueba2==0)"
   ]
  },
  {
   "cell_type": "markdown",
   "metadata": {},
   "source": [
    "## Ejercicio 2\n",
    "\n",
    "* Asigne ``A='Aa'`` y ``B='aa'``\n",
    "* Verifique las siguientes expresiones:\n",
    "    - ``A<A``\n",
    "    - ``A<B``\n",
    "* Explique el resultado de las expresiones anteriores. ¿Por qué no son iguales?"
   ]
  },
  {
   "cell_type": "markdown",
   "metadata": {},
   "source": [
    "*Definiendo A y B*"
   ]
  },
  {
   "cell_type": "code",
   "execution_count": 23,
   "metadata": {},
   "outputs": [
    {
     "name": "stdout",
     "output_type": "stream",
     "text": [
      "A = Aa\n",
      "B = aa\n"
     ]
    }
   ],
   "source": [
    "A = \"Aa\"\n",
    "B = \"aa\"\n",
    "print(\"A =\", A)\n",
    "print(\"B =\", B)"
   ]
  },
  {
   "cell_type": "markdown",
   "metadata": {},
   "source": [
    "*Verificando expresiones*"
   ]
  },
  {
   "cell_type": "code",
   "execution_count": 24,
   "metadata": {},
   "outputs": [
    {
     "name": "stdout",
     "output_type": "stream",
     "text": [
      "A<A = False\n",
      "A<B = True\n"
     ]
    }
   ],
   "source": [
    "print(\"A<A =\", A<A)\n",
    "print(\"A<B =\", A<B)"
   ]
  },
  {
   "cell_type": "markdown",
   "metadata": {},
   "source": [
    "*Explicación de resultados*"
   ]
  },
  {
   "cell_type": "markdown",
   "metadata": {},
   "source": [
    "Los resultados obtenidos provienen de la aplicación del código ASCII en donde A = 65 y a = 97"
   ]
  },
  {
   "cell_type": "code",
   "execution_count": 28,
   "metadata": {},
   "outputs": [
    {
     "name": "stdout",
     "output_type": "stream",
     "text": [
      "65\n",
      "97\n"
     ]
    }
   ],
   "source": [
    "print(ord(\"A\"))\n",
    "print(ord(\"a\"))"
   ]
  },
  {
   "cell_type": "code",
   "execution_count": 25,
   "metadata": {},
   "outputs": [
    {
     "name": "stdout",
     "output_type": "stream",
     "text": [
      "A = 6305\n",
      "B = 9409\n"
     ]
    }
   ],
   "source": [
    "print(\"A =\", 65*97)\n",
    "print(\"B =\", 97*97)"
   ]
  },
  {
   "cell_type": "markdown",
   "metadata": {},
   "source": [
    "Por lo tanto 6,305 **no es menor** a 6,305 y 6,305 **si es menor** a 9,409"
   ]
  },
  {
   "cell_type": "markdown",
   "metadata": {},
   "source": [
    "## Ejercicio 3\n",
    "\n",
    "1.\tEscriba un programa que calcule la hipotenusa e imprima el resultado dado dos catetos. \n",
    "2.\tReescriba el ejemplo anterior para que los puntos sean bidimensionales. \n",
    "3.\tEscriba un programa que, dados tres puntos bidimensionales, imprima si son colineales o no. (No emplee la estructura ``if else``, solamente operadores).\n"
   ]
  },
  {
   "cell_type": "markdown",
   "metadata": {},
   "source": [
    "Determinación de los catetos"
   ]
  },
  {
   "cell_type": "code",
   "execution_count": 29,
   "metadata": {},
   "outputs": [
    {
     "name": "stdout",
     "output_type": "stream",
     "text": [
      "Cateto A = 5\n",
      "Cateto B = 6\n"
     ]
    }
   ],
   "source": [
    "catetoA=5\n",
    "catetoB=6\n",
    "print(\"Cateto A =\", catetoA)\n",
    "print(\"Cateto B =\", catetoB)"
   ]
  },
  {
   "cell_type": "markdown",
   "metadata": {},
   "source": [
    "Determinación de la hipotenusa"
   ]
  },
  {
   "cell_type": "code",
   "execution_count": 31,
   "metadata": {},
   "outputs": [
    {
     "name": "stdout",
     "output_type": "stream",
     "text": [
      "Hipotenusa =  7.810249675906654\n"
     ]
    }
   ],
   "source": [
    "Hipotenusa = ((catetoA)**2+(catetoB)**2)**0.5\n",
    "print(\"Hipotenusa = \", Hipotenusa)"
   ]
  },
  {
   "cell_type": "markdown",
   "metadata": {},
   "source": [
    "# Hipotenusa con puntos bidimensionales"
   ]
  },
  {
   "cell_type": "markdown",
   "metadata": {},
   "source": [
    "El punto C estará definido como (1,1) y el punto D estará definido como (3,4), por lo tanto tenemos"
   ]
  },
  {
   "cell_type": "code",
   "execution_count": 39,
   "metadata": {},
   "outputs": [
    {
     "name": "stdout",
     "output_type": "stream",
     "text": [
      "Cateto C = 2\n",
      "Cateto D = 3\n",
      "Hipotenusa =  3.605551275463989\n",
      "La hipotenusa es 3.605551275463989\n"
     ]
    }
   ],
   "source": [
    "X1=1\n",
    "Y1=1\n",
    "X2=3\n",
    "Y2=4\n",
    "#definiendo los catetos tenemos:\n",
    "CatetoC=X2-X1\n",
    "CatetoD=Y2-Y1\n",
    "print(\"Cateto C =\", CatetoC)\n",
    "print(\"Cateto D =\", CatetoD)\n",
    "Hipotenusa = ((CatetoC)**2+(CatetoD)**2)**0.5\n",
    "print(\"Hipotenusa = \", Hipotenusa)\n",
    "print(\"La hipotenusa es\", Hipotenusa)"
   ]
  },
  {
   "cell_type": "markdown",
   "metadata": {},
   "source": [
    "### Escriba un programa que, dados tres puntos bidimensionales, imprima si son colineales o no"
   ]
  },
  {
   "cell_type": "raw",
   "metadata": {},
   "source": [
    "Partiendo de las siguientes coordenadas:"
   ]
  },
  {
   "cell_type": "code",
   "execution_count": 46,
   "metadata": {},
   "outputs": [
    {
     "name": "stdout",
     "output_type": "stream",
     "text": [
      "Distancia 1 = (4, 1)\n",
      "Distancia 2 = (2, -2)\n",
      "El producto punto entre la distancia 1 y 2 es igual a  6\n",
      "La norma de la distancia 1 es  4.123105625617661\n",
      "La norma de la distancia 2 es  2.8284271247461903\n",
      "La colinealidad encontrada es  0.5144957554275265\n",
      "Los puntos son colineales:  False\n"
     ]
    }
   ],
   "source": [
    "f = (1,1)\n",
    "g = (5,2)\n",
    "h = (3,4)\n",
    "\n",
    "i = (g[0]-f[0], g[1]-f[1])\n",
    "j = (g[0]-h[0], g[1]-h[1])\n",
    "\n",
    "print(\"Distancia 1 =\",i)\n",
    "print(\"Distancia 2 =\",j)\n",
    "\n",
    "Ppunto = (i[0]*j[0]+i[1]*j[1])\n",
    "\n",
    "print(\"El producto punto entre la distancia 1 y 2 es igual a \", Ppunto)\n",
    "\n",
    "Normai = (i[0]**2 + i[1]**2)**0.5\n",
    "Normaj = (j[0]**2 + j[1]**2)**0.5\n",
    "\n",
    "print(\"La norma de la distancia 1 es \", Normai)\n",
    "print(\"La norma de la distancia 2 es \", Normaj)\n",
    "\n",
    "Colin = Ppunto/(Normai*Normaj)\n",
    "print(\"La colinealidad encontrada es \", Colin)\n",
    "\n",
    "#El programa determinara si es colineal si el resultado de comparar \"Colin\" con el valor \"1\" es \"True\"\n",
    "\n",
    "print(\"Los puntos son colineales: \", Colin ==1)"
   ]
  },
  {
   "cell_type": "markdown",
   "metadata": {},
   "source": [
    "## Ejercicio 4\n",
    "\n",
    "Traduzca las siguientes expresiones lógicas y verifique su resultado, siendo ``A=0`` y ``B=1``. \n",
    "\n",
    "1. $A \\implies B$\n",
    "2. $A \\iff B$"
   ]
  },
  {
   "cell_type": "markdown",
   "metadata": {},
   "source": [
    "Como A = 0 y B = 1  \n",
    "El equivalente lógicos de la implicación es igual a $$\\neg A \\vee B$$  y la doble implicación es equivalente a  $$(A \\implies B) \\wedge (B \\implies A)$$  \n",
    "Ahora bien la negación , and,  or son:  "
   ]
  },
  {
   "cell_type": "code",
   "execution_count": 59,
   "metadata": {},
   "outputs": [
    {
     "name": "stdout",
     "output_type": "stream",
     "text": [
      "Negación A =  1\n",
      "A y B =  0\n",
      "A o B =  1\n",
      "El resultado de 𝐴⟹𝐵 es  1\n",
      "El resultado de 𝐴⟺𝐵 es  0\n"
     ]
    }
   ],
   "source": [
    "A=0\n",
    "B=1\n",
    "negA = 1 - A\n",
    "negB = 1 - B\n",
    "AyB = A * B\n",
    "AoB = A + B - (A * B)\n",
    "\n",
    "print(\"Negación A = \",negA)\n",
    "print(\"A y B = \", AyB)\n",
    "print(\"A o B = \", AoB)\n",
    "\n",
    "print(\"El resultado de 𝐴⟹𝐵 es \", negA + B - (negA * B))\n",
    "print(\"El resultado de 𝐴⟺𝐵 es \", (negA + B - (negA * B))*(negB + A - (negB*A)))"
   ]
  }
 ],
 "metadata": {
  "kernelspec": {
   "display_name": "Python 3",
   "language": "python",
   "name": "python3"
  },
  "language_info": {
   "codemirror_mode": {
    "name": "ipython",
    "version": 3
   },
   "file_extension": ".py",
   "mimetype": "text/x-python",
   "name": "python",
   "nbconvert_exporter": "python",
   "pygments_lexer": "ipython3",
   "version": "3.7.4"
  }
 },
 "nbformat": 4,
 "nbformat_minor": 2
}

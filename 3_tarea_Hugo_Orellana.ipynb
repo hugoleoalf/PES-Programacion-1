{
 "cells": [
  {
   "cell_type": "markdown",
   "metadata": {},
   "source": [
    "# Tarea de clase # 3\n",
    "**Programación I**"
   ]
  },
  {
   "cell_type": "markdown",
   "metadata": {},
   "source": [
    "## Ejercicio 0\n",
    "\n",
    "El señor Lee tiene 27 monedas en su bolsillo. Las monedas son de 20 y 50 centavos. Dado que el total es de Q.9.90, utilice la técnica de “Guess and Check” para determinar cuántas monedas son de 20 y 50 centavos respectivamente."
   ]
  },
  {
   "cell_type": "markdown",
   "metadata": {},
   "source": [
    "## Ejercicio 1\n",
    "Escriba una función que ordene los símbolos de una cadena de menor a mayor. Debe utilizar las funciones anteriormente programadas. \n",
    "### Ejercicio 1.0\n",
    "Escriba una función que, dada una cadena, encuentre el menor símbolo dentro de ella. La función debe devolver dicho símbolo.\n",
    "### Ejercicio 1.1\n",
    "Escriba una función que, dado un símbolo y una cadena, determine el índice de la primera coincidencia entre dicho símbolo y los símbolos dentro de la cadena. La función debe devolver un entero.  \n",
    "### Ejercicio 1.2\n",
    "Escriba una función que, dado un símbolo y una cadena, devuelva la cadena sin el primer símbolo que coincidió con el dado. La función debe devolver una cadena y debe utilizar la función del ejercicio 1.1 para escribir esta nueva función. Tip: utilice slicing.\n",
    " "
   ]
  },
  {
   "cell_type": "markdown",
   "metadata": {},
   "source": [
    "# Solución ejercicio 1"
   ]
  },
  {
   "cell_type": "markdown",
   "metadata": {},
   "source": [
    "### Solución de mal programador XD XD"
   ]
  },
  {
   "cell_type": "code",
   "execution_count": 1,
   "metadata": {},
   "outputs": [],
   "source": [
    "def ordenar(p):\n",
    "    \"\"\"Devuelve en orden de menor a mayor la cadena seleccionada\"\"\"\n",
    "    return sorted(p)"
   ]
  },
  {
   "cell_type": "code",
   "execution_count": 2,
   "metadata": {},
   "outputs": [
    {
     "name": "stdout",
     "output_type": "stream",
     "text": [
      "Ingresa una cadena por favor: casa\n",
      "La cadena escrita es : ['c', 'a', 's', 'a']\n",
      "La cadena ordenada es:  ['a', 'a', 'c', 's']\n"
     ]
    }
   ],
   "source": [
    "#Escriba una función que ordene los símbolos de una cadena de menor a mayor. \n",
    "#Debe utilizar las funciones anteriormente programadas. \n",
    "palabra = input(\"Ingresa una cadena por favor: \")\n",
    "p = list(palabra)\n",
    "print(\"La cadena escrita es :\", p)\n",
    "print(\"La cadena ordenada es: \", ordenar(p))"
   ]
  },
  {
   "cell_type": "markdown",
   "metadata": {},
   "source": [
    "# Solución ejercicio 1.0"
   ]
  },
  {
   "cell_type": "code",
   "execution_count": 3,
   "metadata": {},
   "outputs": [],
   "source": [
    "def pequeño(q):\n",
    "    \"\"\"Devuelve en orden de menor a mayor la cadena seleccionada\"\"\"\n",
    "    return sorted(q)\n",
    "    "
   ]
  },
  {
   "cell_type": "code",
   "execution_count": 4,
   "metadata": {},
   "outputs": [
    {
     "name": "stdout",
     "output_type": "stream",
     "text": [
      "Escribe cualquier cosa por favor: otorrino\n",
      "Acabas de escribir:  ['o', 't', 'o', 'r', 'r', 'i', 'n', 'o']\n",
      "El menor valor de la cadena es:  i\n"
     ]
    }
   ],
   "source": [
    "#Escriba una función que, dada una cadena, encuentre el menor símbolo dentro de ella. \n",
    "#La función debe devolver dicho símbolo.\n",
    "cadena = input(\"Escribe cualquier cosa por favor: \")\n",
    "q = list(cadena)\n",
    "print(\"Acabas de escribir: \", q)\n",
    "print(\"El menor valor de la cadena es: \", pequeño(q)[0])\n"
   ]
  },
  {
   "cell_type": "markdown",
   "metadata": {},
   "source": [
    "# Solución ejercicio 1.1"
   ]
  },
  {
   "cell_type": "code",
   "execution_count": 5,
   "metadata": {},
   "outputs": [],
   "source": [
    "def posicad(cadena):\n",
    "    \"\"\"Devuelve el índice del simbolo seleccionado\"\"\"\n",
    "    if s in cadena:\n",
    "        return \"tu simbolo se encuentra en la posición\", cadena.find(s)\n",
    "    else:\n",
    "        return \"El símbolo no se encuentra dentro de tu cadena\""
   ]
  },
  {
   "cell_type": "code",
   "execution_count": 6,
   "metadata": {},
   "outputs": [
    {
     "name": "stdout",
     "output_type": "stream",
     "text": [
      "Escribe cualquier cosa por favor: matematica\n",
      "Escribe una letra o número por favor: i\n",
      "Acabas de escribir:  matematica\n",
      "Ingresaste el símbolo:  i\n",
      "('tu simbolo se encuentra en la posición', 7)\n"
     ]
    }
   ],
   "source": [
    "#Escriba una función que, dado un símbolo y una cadena \n",
    "#determine el índice de la primera coincidencia entre dicho símbolo y los símbolos dentro de la cadena. \n",
    "#La función debe devolver un entero. \n",
    "\n",
    "cadena = input(\"Escribe cualquier cosa por favor: \")\n",
    "s = input(\"Escribe una letra o número por favor: \")\n",
    "print(\"Acabas de escribir: \", cadena)\n",
    "print(\"Ingresaste el símbolo: \", s)\n",
    "print(posicad(cadena))"
   ]
  },
  {
   "cell_type": "markdown",
   "metadata": {},
   "source": [
    "# Solución ejercicio 1.2"
   ]
  },
  {
   "cell_type": "code",
   "execution_count": null,
   "metadata": {},
   "outputs": [],
   "source": [
    "#Escriba una función que, dado un símbolo y una cadena, \n",
    "#devuelva la cadena sin el primer símbolo que coincidió con el dado. \n",
    "#La función debe devolver una cadena y debe utilizar la función del ejercicio 1.1 para escribir esta nueva función. \n",
    "#Tip: utilice slicing."
   ]
  },
  {
   "cell_type": "code",
   "execution_count": 7,
   "metadata": {},
   "outputs": [],
   "source": [
    "def eliminar(x):\n",
    "    lcad = list(cadena)\n",
    "    if s in lcad:    \n",
    "        lcad.remove(s)\n",
    "        return print(\"La cadena quedó de la siguiente forma: \",\"\".join(lcad))\n",
    "    else:\n",
    "        return \"El símbolo no se encuentra dentro de tu cadena\""
   ]
  },
  {
   "cell_type": "code",
   "execution_count": 8,
   "metadata": {},
   "outputs": [
    {
     "name": "stdout",
     "output_type": "stream",
     "text": [
      "Escribe cualquier cosa por favor: muerte\n",
      "Escribe una letra o número por favor: u\n",
      "La cadena quedó de la siguiente forma:  merte\n"
     ]
    }
   ],
   "source": [
    "cadena = str(input(\"Escribe cualquier cosa por favor: \"))\n",
    "s = str(input(\"Escribe una letra o número por favor: \"))\n",
    "\n",
    "eliminar(s)"
   ]
  },
  {
   "cell_type": "markdown",
   "metadata": {},
   "source": [
    "# Solución definitiva ejercicio 1"
   ]
  },
  {
   "cell_type": "markdown",
   "metadata": {},
   "source": [
    "### Opción A"
   ]
  },
  {
   "cell_type": "code",
   "execution_count": 9,
   "metadata": {},
   "outputs": [],
   "source": [
    "def ordenar(q):\n",
    "    lcad = list(cadena)\n",
    "    sorted(q)\n",
    "    if s in cadena:\n",
    "        lcad.remove(s)\n",
    "        \"\".join(lcad)\n",
    "    else:\n",
    "        print(\"El símbolo no se encuentra dentro de tu cadena\")\n",
    "    \n",
    "    return(sorted(lcad))\n",
    "        \n",
    "  "
   ]
  },
  {
   "cell_type": "code",
   "execution_count": 10,
   "metadata": {},
   "outputs": [
    {
     "name": "stdout",
     "output_type": "stream",
     "text": [
      "Ingresa una cadena por favor: ayuda\n",
      "Escribe una letra o número por favor: y\n",
      "La cadena escrita es : ['a', 'y', 'u', 'd', 'a']\n",
      "La cadena reoordenada sin el simbolo seleccionado es:  ['a', 'a', 'd', 'u']\n"
     ]
    }
   ],
   "source": [
    "cadena = str(input(\"Ingresa una cadena por favor: \"))\n",
    "p = list(cadena)\n",
    "s = str(input(\"Escribe una letra o número por favor: \"))\n",
    "print(\"La cadena escrita es :\", p)\n",
    "print(\"La cadena reoordenada sin el simbolo seleccionado es: \", ordenar(p))"
   ]
  },
  {
   "cell_type": "markdown",
   "metadata": {},
   "source": [
    "### Opción B"
   ]
  },
  {
   "cell_type": "code",
   "execution_count": 14,
   "metadata": {},
   "outputs": [],
   "source": [
    "#Función empleada en ejercicio 1.0 denominada con otro nombre\n",
    "def ordenardato(p):\n",
    "    return sorted(p)\n",
    "\n",
    "#Función empleada en función 1.1 denominada con otro nombre\n",
    "def posicadato(p):\n",
    "    \"\"\"Devuelve el índice del simbolo seleccionado\"\"\"\n",
    "    if s in cadena:\n",
    "        return \"tu simbolo se encuentra en la posición\", l.find(s)\n",
    "    else:\n",
    "        return \"El símbolo no se encuentra dentro de tu cadena\"\n",
    "    \n",
    "#Función empleada en función 1.2 denominada con otro nombre\n",
    "def eliminardato(p):\n",
    "    if s in cadena:    \n",
    "        t.remove(s)\n",
    "        return \"La cadena ordenada removiendo el símbolo ingresado es: \", \"\".join(t)\n",
    "    else:\n",
    "        return print(\"El símbolo no se encuentra dentro de tu cadena\")"
   ]
  },
  {
   "cell_type": "code",
   "execution_count": 15,
   "metadata": {},
   "outputs": [
    {
     "name": "stdout",
     "output_type": "stream",
     "text": [
      "Ingresa una cadena por favor: maria\n",
      "Escribe una letra o número por favor: m\n",
      "La cadena escrita es : ['m', 'a', 'r', 'i', 'a']\n",
      "La cadena ordenada es:  ['a', 'a', 'i', 'm', 'r']\n",
      "('tu simbolo se encuentra en la posición', 3)\n",
      "('La cadena ordenada removiendo el símbolo ingresado es: ', 'aair')\n"
     ]
    }
   ],
   "source": [
    "cadena = str(input(\"Ingresa una cadena por favor: \"))\n",
    "p = list(cadena)\n",
    "t = sorted(p)\n",
    "l = \"\".join(t)\n",
    "s = str(input(\"Escribe una letra o número por favor: \"))\n",
    "print(\"La cadena escrita es :\", p)\n",
    "print(\"La cadena ordenada es: \", ordenardato(p))\n",
    "print(posicadato(p))\n",
    "print(eliminardato(p))"
   ]
  },
  {
   "cell_type": "markdown",
   "metadata": {},
   "source": [
    "## Ejercicio 2\n",
    "\n",
    "Escriba un probrama que, por medio de la técnica de **Guess and Check**, encuentre el punto medio entre dos números. "
   ]
  },
  {
   "cell_type": "code",
   "execution_count": 4,
   "metadata": {},
   "outputs": [
    {
     "name": "stdout",
     "output_type": "stream",
     "text": [
      "Favor de ingresar un valor para x: 5\n",
      "Favor de ingresar un valor para y: 50\n",
      "27.50000000000012\n"
     ]
    }
   ],
   "source": [
    "x = int(input(\"Favor de ingresar un valor para x: \"))\n",
    "y = int (input(\"Favor de ingresar un valor para y: \"))\n",
    "tolerancia = 0.001\n",
    "aum = 0.1\n",
    "medio = 0\n",
    "if x> 0 and y> 0:\n",
    "    while abs((abs(x-medio) -abs(y-medio)))>=tolerancia:\n",
    "        medio = medio+aum\n",
    "    print(medio)\n",
    "else:\n",
    "    while abs((abs(x+medio) -abs(y+medio)))>=tolerancia:\n",
    "        medio = medio + aum\n",
    "    print(medio*-1)"
   ]
  }
 ],
 "metadata": {
  "kernelspec": {
   "display_name": "Python 3",
   "language": "python",
   "name": "python3"
  },
  "language_info": {
   "codemirror_mode": {
    "name": "ipython",
    "version": 3
   },
   "file_extension": ".py",
   "mimetype": "text/x-python",
   "name": "python",
   "nbconvert_exporter": "python",
   "pygments_lexer": "ipython3",
   "version": "3.7.4"
  }
 },
 "nbformat": 4,
 "nbformat_minor": 2
}

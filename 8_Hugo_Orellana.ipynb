{
 "cells": [
  {
   "cell_type": "markdown",
   "metadata": {},
   "source": [
    "# Tarea día 8\n",
    "**Programación I**"
   ]
  },
  {
   "cell_type": "markdown",
   "metadata": {},
   "source": [
    "## Ejercicio 1\n",
    "\n",
    "Cree una matriz que contenga ceros. Rellene la mitad de ellos aleatoriamente con unos."
   ]
  },
  {
   "cell_type": "code",
   "execution_count": 50,
   "metadata": {},
   "outputs": [],
   "source": [
    "import numpy as np\n",
    "import random"
   ]
  },
  {
   "cell_type": "code",
   "execution_count": 4,
   "metadata": {
    "scrolled": true
   },
   "outputs": [
    {
     "data": {
      "text/plain": [
       "array([[0., 0., 0., 0., 0., 0., 0., 0., 0., 0.],\n",
       "       [0., 0., 0., 0., 0., 0., 0., 0., 0., 0.],\n",
       "       [0., 0., 0., 0., 0., 0., 0., 0., 0., 0.],\n",
       "       [0., 0., 0., 0., 0., 0., 0., 0., 0., 0.],\n",
       "       [0., 0., 0., 0., 0., 0., 0., 0., 0., 0.],\n",
       "       [0., 0., 0., 0., 0., 0., 0., 0., 0., 0.],\n",
       "       [0., 0., 0., 0., 0., 0., 0., 0., 0., 0.],\n",
       "       [0., 0., 0., 0., 0., 0., 0., 0., 0., 0.],\n",
       "       [0., 0., 0., 0., 0., 0., 0., 0., 0., 0.],\n",
       "       [0., 0., 0., 0., 0., 0., 0., 0., 0., 0.]])"
      ]
     },
     "execution_count": 4,
     "metadata": {},
     "output_type": "execute_result"
    }
   ],
   "source": [
    "a = np.zeros([10, 10])\n",
    "a\n",
    "#Forma de crear matriz de ceros"
   ]
  },
  {
   "cell_type": "code",
   "execution_count": 23,
   "metadata": {},
   "outputs": [
    {
     "name": "stdout",
     "output_type": "stream",
     "text": [
      "[[0 1 0 0 1 0 0 0 1 1]\n",
      " [0 1 1 0 0 1 1 1 0 1]\n",
      " [0 1 1 1 0 1 0 0 0 0]\n",
      " [1 1 1 0 1 0 1 0 0 0]\n",
      " [1 1 1 0 0 1 0 0 0 0]\n",
      " [0 1 1 0 1 1 0 0 0 1]\n",
      " [1 0 1 0 1 1 0 0 0 1]\n",
      " [1 0 1 0 1 0 1 0 0 1]\n",
      " [0 1 1 1 1 0 0 1 1 0]\n",
      " [0 0 1 1 1 1 0 0 1 1]]\n",
      "50\n"
     ]
    }
   ],
   "source": [
    "c= np.random.randint(2, size=(10,10))\n",
    "print(c)\n",
    "print(c.sum())\n",
    "#Se genero aleatoriamente una matriz que rellene con números enteros con rango (2), es decir, solo genera el uno y el \n",
    "#cero. Con la función suma, se verificó que la matriz en general sumará 50 (de no ser así, se repite el proceso hasta\n",
    "#que de 50, es decir, cuando la mitad de los elementos sean 1)"
   ]
  },
  {
   "cell_type": "code",
   "execution_count": 24,
   "metadata": {
    "scrolled": true
   },
   "outputs": [
    {
     "name": "stdout",
     "output_type": "stream",
     "text": [
      "[[0 1 0 0 1 0 0 0 1 1]\n",
      " [0 1 1 0 0 1 1 1 0 1]\n",
      " [0 1 1 1 0 1 0 0 0 0]\n",
      " [1 1 1 0 1 0 1 0 0 0]\n",
      " [1 1 1 0 0 1 0 0 0 0]\n",
      " [0 1 1 0 1 1 0 0 0 1]\n",
      " [1 0 1 0 1 1 0 0 0 1]\n",
      " [1 0 1 0 1 0 1 0 0 1]\n",
      " [0 1 1 1 1 0 0 1 1 0]\n",
      " [0 0 1 1 1 1 0 0 1 1]]\n"
     ]
    }
   ],
   "source": [
    "mat_random = c.copy()\n",
    "print(mat_random) #Con esta nueva variable nos aseguramos que sea una matriz de ceros, rellena aleatoreamente \n",
    "#con 50 elementos equivalentes a 1"
   ]
  },
  {
   "cell_type": "code",
   "execution_count": 96,
   "metadata": {
    "scrolled": true
   },
   "outputs": [
    {
     "name": "stdout",
     "output_type": "stream",
     "text": [
      "[[0 0 0 1 1 1 1 1 0 1]\n",
      " [0 0 1 0 1 1 0 0 0 1]\n",
      " [0 0 0 1 1 1 0 1 0 1]\n",
      " [0 0 1 0 1 0 1 1 0 0]\n",
      " [1 1 1 0 1 1 1 0 1 0]\n",
      " [0 1 1 0 1 1 0 0 1 0]\n",
      " [0 1 0 0 1 0 1 1 1 1]\n",
      " [0 1 0 0 1 1 1 1 0 1]\n",
      " [1 0 0 0 0 0 0 1 1 0]\n",
      " [1 0 0 0 1 1 0 0 0 1]]\n",
      "50\n"
     ]
    }
   ],
   "source": [
    "d = np.random.choice(2, size=(10,10), replace = True, p=[0.5, 0.5])\n",
    "print(d)\n",
    "print(d.sum())"
   ]
  },
  {
   "cell_type": "markdown",
   "metadata": {},
   "source": [
    "### Otro método"
   ]
  },
  {
   "cell_type": "code",
   "execution_count": 203,
   "metadata": {},
   "outputs": [
    {
     "name": "stdout",
     "output_type": "stream",
     "text": [
      "[0. 0. 0. 0. 0. 0. 0. 0. 0. 0. 0. 0. 0. 0. 0. 0. 0. 0. 0. 0. 0. 0. 0. 0.\n",
      " 0. 0. 0. 0. 0. 0. 0. 0. 0. 0. 0. 0. 0. 0. 0. 0. 0. 0. 0. 0. 0. 0. 0. 0.\n",
      " 0. 0. 0. 0. 0. 0. 0. 0. 0. 0. 0. 0. 0. 0. 0. 0. 0. 0. 0. 0. 0. 0. 0. 0.\n",
      " 0. 0. 0. 0. 0. 0. 0. 0. 0. 0. 0. 0. 0. 0. 0. 0. 0. 0. 0. 0. 0. 0. 0. 0.\n",
      " 0. 0. 0. 0.]\n",
      "[76  2 58 53 21  1 29 55 26 43 10 77  7 49  0 15 37 48 82 25 11 91 65 39\n",
      " 80 38 99 14 56 27 73 93 13 78 41 51 54 50 59 47  6 52 67 34  3 72 57 61\n",
      " 74 92]\n",
      "[1. 1. 1. 1. 0. 0. 1. 1. 0. 0. 1. 1. 0. 1. 1. 1. 0. 0. 0. 0. 0. 1. 0. 0.\n",
      " 0. 1. 1. 1. 0. 1. 0. 0. 0. 0. 1. 0. 0. 1. 1. 1. 0. 1. 0. 1. 0. 0. 0. 1.\n",
      " 1. 1. 1. 1. 1. 1. 1. 1. 1. 1. 1. 1. 0. 1. 0. 0. 0. 1. 0. 1. 0. 0. 0. 0.\n",
      " 1. 1. 1. 0. 1. 1. 1. 0. 1. 0. 1. 0. 0. 0. 0. 0. 0. 0. 0. 1. 1. 1. 0. 0.\n",
      " 0. 0. 0. 1.]\n",
      "[[1. 1. 1. 1. 0. 0. 1. 1. 0. 0.]\n",
      " [1. 1. 0. 1. 1. 1. 0. 0. 0. 0.]\n",
      " [0. 1. 0. 0. 0. 1. 1. 1. 0. 1.]\n",
      " [0. 0. 0. 0. 1. 0. 0. 1. 1. 1.]\n",
      " [0. 1. 0. 1. 0. 0. 0. 1. 1. 1.]\n",
      " [1. 1. 1. 1. 1. 1. 1. 1. 1. 1.]\n",
      " [0. 1. 0. 0. 0. 1. 0. 1. 0. 0.]\n",
      " [0. 0. 1. 1. 1. 0. 1. 1. 1. 0.]\n",
      " [1. 0. 1. 0. 0. 0. 0. 0. 0. 0.]\n",
      " [0. 1. 1. 1. 0. 0. 0. 0. 0. 1.]]\n",
      "La sumatoria es de:  50.0\n"
     ]
    }
   ],
   "source": [
    "a = np.zeros([100]) #Se crea una fila con 100 ceros\n",
    "b = np.arange(100) #Crea una fila que va con números de 0 al 99\n",
    "c = np.random.choice(b, int(50), replace = False) #Variable que posee aleatoriamente 50 números enteros entre 0 a 100\n",
    "\n",
    "print(a)\n",
    "print(c)\n",
    "a[c]=1 #Con esta instrucción se sustituye la posición de \"c\" en \"a\" y lo remplaza por un uno\n",
    "print(a)\n",
    "a.resize(10,10) #Establece la matriz a en dimensiones de 10 x 10\n",
    "print(a)\n",
    "print(\"La sumatoria es de: \", a.sum())"
   ]
  },
  {
   "cell_type": "markdown",
   "metadata": {},
   "source": [
    "## Ejercicio 2\n",
    "Cree dos matrices de dimensiones $(5,2)$. La primera rellena de ceros y la siguiente de unos. \n",
    "1.\tConvierta las matrices en vectores columna. \n",
    "2.\tApile ambos vectores a lo largo de una tercera dimensión. \n",
    "3.\tCon las matrices originales, conviértalas en vectores fila y concaténelos verticalmente. \n",
    "\n"
   ]
  },
  {
   "cell_type": "markdown",
   "metadata": {},
   "source": [
    "#### Inciso 1"
   ]
  },
  {
   "cell_type": "code",
   "execution_count": 25,
   "metadata": {},
   "outputs": [
    {
     "name": "stdout",
     "output_type": "stream",
     "text": [
      "[[0. 0.]\n",
      " [0. 0.]\n",
      " [0. 0.]\n",
      " [0. 0.]\n",
      " [0. 0.]]\n"
     ]
    }
   ],
   "source": [
    "a = np.zeros([5,2])\n",
    "print(a) #Matriz de ceros"
   ]
  },
  {
   "cell_type": "code",
   "execution_count": 27,
   "metadata": {},
   "outputs": [
    {
     "name": "stdout",
     "output_type": "stream",
     "text": [
      "[[1. 1.]\n",
      " [1. 1.]\n",
      " [1. 1.]\n",
      " [1. 1.]\n",
      " [1. 1.]]\n"
     ]
    }
   ],
   "source": [
    "b = np.ones([5,2])\n",
    "print(b) #Matriz de unos."
   ]
  },
  {
   "cell_type": "code",
   "execution_count": 32,
   "metadata": {},
   "outputs": [
    {
     "data": {
      "text/plain": [
       "array([[0., 0., 0., 0., 0.],\n",
       "       [0., 0., 0., 0., 0.]])"
      ]
     },
     "execution_count": 32,
     "metadata": {},
     "output_type": "execute_result"
    }
   ],
   "source": [
    "np.column_stack((a))"
   ]
  },
  {
   "cell_type": "code",
   "execution_count": 103,
   "metadata": {},
   "outputs": [
    {
     "name": "stdout",
     "output_type": "stream",
     "text": [
      "[[0.]\n",
      " [0.]\n",
      " [0.]\n",
      " [0.]\n",
      " [0.]\n",
      " [0.]\n",
      " [0.]\n",
      " [0.]\n",
      " [0.]\n",
      " [0.]]\n"
     ]
    }
   ],
   "source": [
    "ca= np.concatenate(a)\n",
    "np.vstack(ca)\n",
    "da = np.vstack(ca)#La variable da representa un vector columna lleno de 0\n",
    "print(da)"
   ]
  },
  {
   "cell_type": "code",
   "execution_count": 102,
   "metadata": {},
   "outputs": [
    {
     "name": "stdout",
     "output_type": "stream",
     "text": [
      "[[1.]\n",
      " [1.]\n",
      " [1.]\n",
      " [1.]\n",
      " [1.]\n",
      " [1.]\n",
      " [1.]\n",
      " [1.]\n",
      " [1.]\n",
      " [1.]]\n"
     ]
    }
   ],
   "source": [
    "cb = np.concatenate(b)\n",
    "np.vstack(cb)\n",
    "db = np.vstack(cb) #La variable db representa un vector columna lleno de 1\n",
    "print(db)"
   ]
  },
  {
   "cell_type": "markdown",
   "metadata": {},
   "source": [
    "#### Inciso b"
   ]
  },
  {
   "cell_type": "code",
   "execution_count": 104,
   "metadata": {},
   "outputs": [
    {
     "name": "stdout",
     "output_type": "stream",
     "text": [
      "[[[0.]]\n",
      "\n",
      " [[0.]]\n",
      "\n",
      " [[0.]]\n",
      "\n",
      " [[0.]]\n",
      "\n",
      " [[0.]]\n",
      "\n",
      " [[0.]]\n",
      "\n",
      " [[0.]]\n",
      "\n",
      " [[0.]]\n",
      "\n",
      " [[0.]]\n",
      "\n",
      " [[0.]]]\n"
     ]
    }
   ],
   "source": [
    "da[:, None]\n",
    "print(da[:, None]) #Con el comando [:, None] se añadió una dimensión adicional"
   ]
  },
  {
   "cell_type": "code",
   "execution_count": 105,
   "metadata": {},
   "outputs": [
    {
     "name": "stdout",
     "output_type": "stream",
     "text": [
      "[[[1.]]\n",
      "\n",
      " [[1.]]\n",
      "\n",
      " [[1.]]\n",
      "\n",
      " [[1.]]\n",
      "\n",
      " [[1.]]\n",
      "\n",
      " [[1.]]\n",
      "\n",
      " [[1.]]\n",
      "\n",
      " [[1.]]\n",
      "\n",
      " [[1.]]\n",
      "\n",
      " [[1.]]]\n"
     ]
    }
   ],
   "source": [
    "db[:, None]\n",
    "print(db[:, None]) #Con el comando [:, None] se añadió una dimensión adicional"
   ]
  },
  {
   "cell_type": "markdown",
   "metadata": {},
   "source": [
    "#### Inciso c"
   ]
  },
  {
   "cell_type": "code",
   "execution_count": 112,
   "metadata": {},
   "outputs": [
    {
     "name": "stdout",
     "output_type": "stream",
     "text": [
      "[[0. 0.]\n",
      " [0. 0.]\n",
      " [0. 0.]\n",
      " [0. 0.]\n",
      " [0. 0.]]\n",
      "[[1. 1.]\n",
      " [1. 1.]\n",
      " [1. 1.]\n",
      " [1. 1.]\n",
      " [1. 1.]]\n",
      "[0. 0. 0. 0. 0. 0. 0. 0. 0. 0.]\n",
      "[1. 1. 1. 1. 1. 1. 1. 1. 1. 1.]\n"
     ]
    }
   ],
   "source": [
    "a = np.zeros([5,2])\n",
    "print(a) #Matriz de ceros\n",
    "b = np.ones([5,2])\n",
    "print(b) #Matriz de unos.\n",
    "c= np.hstack(a)\n",
    "d= np.hstack(b)\n",
    "print(c)\n",
    "print(d)"
   ]
  },
  {
   "cell_type": "code",
   "execution_count": 120,
   "metadata": {
    "scrolled": true
   },
   "outputs": [
    {
     "name": "stdout",
     "output_type": "stream",
     "text": [
      "[0. 0. 0. 0. 0. 0. 0. 0. 0. 0. 1. 1. 1. 1. 1. 1. 1. 1. 1. 1.]\n"
     ]
    }
   ],
   "source": [
    "e=np.concatenate((c,d)) #Se creó la variable e, la cual concatena las matrices a y b\n",
    "print(e)"
   ]
  },
  {
   "cell_type": "code",
   "execution_count": 121,
   "metadata": {},
   "outputs": [
    {
     "name": "stdout",
     "output_type": "stream",
     "text": [
      "[[0.]\n",
      " [0.]\n",
      " [0.]\n",
      " [0.]\n",
      " [0.]\n",
      " [0.]\n",
      " [0.]\n",
      " [0.]\n",
      " [0.]\n",
      " [0.]\n",
      " [1.]\n",
      " [1.]\n",
      " [1.]\n",
      " [1.]\n",
      " [1.]\n",
      " [1.]\n",
      " [1.]\n",
      " [1.]\n",
      " [1.]\n",
      " [1.]]\n"
     ]
    }
   ],
   "source": [
    "e.resize(20,1) #Con el comando \"resize\" se volvió en vertical la matriz e\n",
    "print(e)"
   ]
  },
  {
   "cell_type": "markdown",
   "metadata": {},
   "source": [
    "## Ejercicio 3\n",
    "\n",
    "Dada la función $f(x,y,z) = 2x +3y + z^2$\n",
    "1.\tGenere una matriz con números aleatorios para cada variable. \n",
    "2.\tEvalúe la matriz anterior en la función. El resultado debe ser una matriz. "
   ]
  },
  {
   "cell_type": "code",
   "execution_count": 142,
   "metadata": {},
   "outputs": [
    {
     "name": "stdout",
     "output_type": "stream",
     "text": [
      "[[3 4 3]\n",
      " [9 6 8]\n",
      " [1 2 4]\n",
      " [6 3 5]\n",
      " [9 8 3]]\n"
     ]
    }
   ],
   "source": [
    "x= np.random.randint(10, size=(5,3)) #La variable x genera números aleatorios\n",
    "print(x)"
   ]
  },
  {
   "cell_type": "code",
   "execution_count": 143,
   "metadata": {},
   "outputs": [
    {
     "name": "stdout",
     "output_type": "stream",
     "text": [
      "[[ 27]\n",
      " [100]\n",
      " [ 24]\n",
      " [ 46]\n",
      " [ 51]]\n"
     ]
    }
   ],
   "source": [
    "def f(x,y,z):\n",
    "    return 2*x + 3*y + z**2\n",
    "\n",
    "z=f(x[:,0], x[:,1], x[:,2]) #Dentro de la función se ingresaron las columnas de la matriz X como variables. \n",
    "#Se definió la variable z, como la matriz que recibe los resultados de la función f(x,y,z), la cual se encuentra arriba.\n",
    "print(np.vstack(z))\n",
    "\n"
   ]
  },
  {
   "cell_type": "markdown",
   "metadata": {},
   "source": [
    "## Ejercicio 4\n",
    "\n",
    "Suponga que dentro de un cuadrado de lado 50 cm, hay un cuadrado de 20cm. Ambos cuadrados comparten centro. Estime el área del cuadrado interno por método Monte Carlo. [Consulte Aquí]( http://mathonweb.com/entrtain/monte/t_monte.htm)"
   ]
  },
  {
   "cell_type": "markdown",
   "metadata": {},
   "source": [
    "### Montecarlo con el cuadrado en la esquina"
   ]
  },
  {
   "cell_type": "code",
   "execution_count": 445,
   "metadata": {},
   "outputs": [
    {
     "name": "stdout",
     "output_type": "stream",
     "text": [
      "El cuadrado a analizar es: \n",
      "[[0 1 1 ... 1 1 1]\n",
      " [1 0 0 ... 0 1 1]\n",
      " [0 0 0 ... 1 1 1]\n",
      " ...\n",
      " [1 0 1 ... 1 0 0]\n",
      " [0 0 1 ... 0 0 0]\n",
      " [0 1 1 ... 1 1 1]]\n",
      "La matriz de 20*20 es: \n",
      "[[0 1 1 1 0 0 1 0 1 0 0 1 1 1 0 1 1 1 0 1]\n",
      " [1 0 0 1 1 0 0 1 0 1 0 0 1 1 0 0 0 1 1 1]\n",
      " [0 0 0 1 0 0 1 0 0 1 1 1 1 1 1 1 1 1 0 0]\n",
      " [0 1 1 1 1 0 1 1 1 1 0 0 1 0 1 0 0 0 1 0]\n",
      " [0 1 0 1 0 1 0 0 0 0 1 0 1 1 1 1 1 1 0 1]\n",
      " [1 0 0 0 0 1 0 0 1 0 0 1 0 1 1 0 0 0 1 1]\n",
      " [0 0 0 1 1 1 0 0 1 0 1 1 1 1 1 0 1 1 0 0]\n",
      " [0 0 0 1 0 1 0 0 1 1 0 0 1 1 0 0 0 1 0 0]\n",
      " [0 0 1 0 0 1 0 0 0 0 0 1 1 1 0 0 1 0 1 1]\n",
      " [1 0 1 0 0 0 0 1 0 1 1 1 1 0 1 0 0 0 0 1]\n",
      " [1 1 0 1 0 1 1 0 1 1 0 0 0 0 1 0 1 1 0 1]\n",
      " [1 0 0 0 0 0 0 1 0 0 1 1 0 1 0 1 0 0 1 0]\n",
      " [0 1 1 1 1 1 1 1 1 0 1 0 1 0 0 0 1 1 0 0]\n",
      " [0 1 1 1 1 1 0 1 0 0 0 1 0 1 0 0 0 0 1 0]\n",
      " [0 0 1 1 0 0 0 1 1 0 1 1 0 1 0 1 1 0 0 1]\n",
      " [0 0 0 1 1 0 1 1 1 0 1 0 1 0 0 0 0 1 1 0]\n",
      " [1 0 1 0 0 0 0 1 0 1 0 0 0 0 1 1 1 1 1 1]\n",
      " [0 0 1 0 0 1 0 1 1 1 1 0 0 0 0 0 0 0 0 0]\n",
      " [0 1 1 0 1 0 1 0 1 0 0 1 0 1 1 1 1 0 1 1]\n",
      " [1 0 0 0 0 1 1 0 1 1 0 0 1 1 0 1 1 1 0 1]]\n",
      "El total de unos dentro del cuadrado de 20*20 es de:  195\n",
      "El área del cuadrado pequeño es de:  389.6882494004796\n"
     ]
    }
   ],
   "source": [
    "monte=np.random.randint(0,2, (50,50)) #Permite generar un cuadrado con un área de 50*50\n",
    "proporcion=np.count_nonzero(monte ==1)\n",
    "areagrande=50*50\n",
    "proporcion\n",
    "print(\"El cuadrado a analizar es: \")\n",
    "print(monte)\n",
    "peque=monte[0:20,0:20]\n",
    "print(\"La matriz de 20*20 es: \")\n",
    "print(peque)\n",
    "cuadradopeque=peque.sum()#Recopila la sumatoria del cuadrado de proporciones de 20*20 en la esquina de la matriz\n",
    "print(\"El total de unos dentro del cuadrado de 20*20 es de: \",cuadradopeque)\n",
    "areapequeña=(cuadradopeque*areagrande)/proporcion\n",
    "print(\"El área del cuadrado pequeño es de: \", areapequeña)\n",
    "#Como el valor se aproxima a 400 se puede concluir que esta calculando bien el área."
   ]
  },
  {
   "cell_type": "markdown",
   "metadata": {},
   "source": [
    "### Montecarlo con el cuadrado en el centro"
   ]
  },
  {
   "cell_type": "code",
   "execution_count": 444,
   "metadata": {},
   "outputs": [
    {
     "name": "stdout",
     "output_type": "stream",
     "text": [
      "El cuadrado a analizar es: \n",
      "[[1 1 1 ... 1 0 0]\n",
      " [1 0 1 ... 0 1 1]\n",
      " [1 1 1 ... 0 0 1]\n",
      " ...\n",
      " [1 1 0 ... 1 0 1]\n",
      " [0 1 1 ... 0 1 0]\n",
      " [0 1 1 ... 0 0 1]]\n",
      "La matriz de 20*20 es: \n",
      "[[1 1 0 0 0 0 1 1 0 1 0 0 1 0 0 1 1 1 1 1]\n",
      " [1 1 0 1 1 0 1 0 0 0 0 0 1 1 1 0 1 0 0 0]\n",
      " [1 0 1 0 0 0 1 1 1 0 1 0 0 1 1 1 0 0 0 1]\n",
      " [1 1 0 1 1 1 0 1 1 0 0 1 0 1 0 1 1 0 0 0]\n",
      " [1 0 1 0 1 1 1 0 0 0 1 0 0 1 1 1 1 1 1 1]\n",
      " [0 0 1 0 1 1 1 0 1 0 0 0 1 0 0 1 1 0 0 1]\n",
      " [1 0 0 0 1 0 0 0 1 0 1 1 1 0 0 0 1 0 0 1]\n",
      " [0 0 1 0 0 1 0 0 1 1 1 0 0 1 0 0 0 0 1 0]\n",
      " [1 0 0 0 0 1 1 1 0 1 1 0 0 0 1 0 1 1 1 0]\n",
      " [0 1 1 0 1 1 1 1 0 1 1 0 1 0 1 0 1 0 1 0]\n",
      " [1 0 1 1 0 0 0 0 1 0 1 0 0 1 0 1 0 1 0 1]\n",
      " [1 0 1 1 1 0 0 0 0 1 0 1 1 1 1 0 0 1 0 0]\n",
      " [0 1 1 0 0 0 1 1 0 0 1 0 0 0 0 1 1 0 1 1]\n",
      " [1 0 0 1 1 1 0 0 1 0 1 0 0 1 0 1 0 1 0 0]\n",
      " [1 1 0 0 0 1 0 0 0 0 1 0 0 1 0 0 0 1 1 1]\n",
      " [1 0 1 0 0 1 1 0 0 0 0 1 1 0 1 0 0 0 0 1]\n",
      " [0 1 1 1 0 1 0 0 1 0 0 0 0 1 0 0 1 0 0 1]\n",
      " [0 0 0 1 1 0 0 0 1 1 1 0 0 1 0 0 0 1 0 1]\n",
      " [1 1 0 0 1 0 0 1 1 1 1 1 1 0 0 1 1 0 0 1]\n",
      " [0 1 0 0 1 1 1 0 1 0 1 0 1 1 1 0 1 1 0 1]]\n",
      "El total de unos dentro del cuadrado de 20*20 es de:  193\n",
      "El área del cuadrado pequeño es de:  393.23553382233086\n"
     ]
    }
   ],
   "source": [
    "monte=np.random.randint(0,2, (50,50)) #Permite generar un cuadrado con un área de 50*50\n",
    "proporcion=np.count_nonzero(monte ==1)\n",
    "areagrande=50*50\n",
    "proporcion\n",
    "print(\"El cuadrado a analizar es: \")\n",
    "print(monte)\n",
    "peque=monte[15:35,15:35]\n",
    "print(\"La matriz de 20*20 es: \")\n",
    "print(peque)\n",
    "cuadradopeque=peque.sum()#Recopila la sumatoria del cuadrado de proporciones de 20*20 en el centro de la matriz\n",
    "print(\"El total de unos dentro del cuadrado de 20*20 es de: \",cuadradopeque)\n",
    "areapequeña=(cuadradopeque*areagrande)/proporcion\n",
    "print(\"El área del cuadrado pequeño es de: \", areapequeña)\n",
    "#Como el valor se aproxima a 400 se puede concluir que esta calculando bien el área."
   ]
  },
  {
   "cell_type": "markdown",
   "metadata": {},
   "source": [
    "***\n",
    "# *Tarea*\n",
    "\n",
    "1. De las siguientes secciones, escoger 73 funciones de NumPy y mostrar su utilización en un ejemplo.\n",
    "\n",
    "    - [Array creation routines](https://numpy.org/devdocs/reference/routines.array-creation.html)\n",
    "\n",
    "    - [Array manipulation routines](https://numpy.org/devdocs/reference/routines.array-manipulation.html)\n",
    "\n",
    "    - [Binary operations](https://numpy.org/devdocs/reference/routines.bitwise.html)\n",
    "\n",
    "    - [String operations](https://numpy.org/devdocs/reference/routines.char.html)\n",
    "    \n",
    "\n",
    "2. Crear un ejemplo de cómo guardar y cargar arreglos de un archivo binario `.npy` y `.npz`:\n",
    "\n",
    "    - [NumPy binary files (NPY, NPZ)](https://numpy.org/devdocs/reference/routines.io.html#numpy-binary-files-npy-npz)\n",
    "    \n",
    "3. Crear un ejemplo de cómo guardar y cargar arreglos de un archivo de texto `.txt`:\n",
    "\n",
    "    - [NumPy Text files](https://numpy.org/devdocs/reference/routines.io.html#text-files)    \n",
    "    \n",
    "4. Crear una función llamada `estimacionMCO` que lea un archivo CSV con 7 columnas, que corresponden a las variables $(x_{1i}, \\ldots, x_{6i})$ y $y_i$. \n",
    "    - La función debe computar matricialmente los parámetros del modelo de regresión lineal: $y = X\\beta$. \n",
    "    - Estos parámetros deben ser devueltos como un arreglo de NumPy. \n",
    "\n",
    "    - Utilice la función de lectura de archivos de NumPy."
   ]
  },
  {
   "cell_type": "markdown",
   "metadata": {},
   "source": [
    "## Tarea, inciso 1\n",
    "1. De las siguientes secciones, escoger 73 funciones de NumPy y mostrar su utilización en un ejemplo.\n",
    "\n",
    "    - [Array creation routines](https://numpy.org/devdocs/reference/routines.array-creation.html)\n",
    "\n",
    "    - [Array manipulation routines](https://numpy.org/devdocs/reference/routines.array-manipulation.html)\n",
    "\n",
    "    - [Binary operations](https://numpy.org/devdocs/reference/routines.bitwise.html)\n",
    "\n",
    "    - [String operations](https://numpy.org/devdocs/reference/routines.char.html)"
   ]
  },
  {
   "cell_type": "markdown",
   "metadata": {},
   "source": [
    "##### Funciones Array creation routines"
   ]
  },
  {
   "cell_type": "code",
   "execution_count": 144,
   "metadata": {},
   "outputs": [
    {
     "name": "stdout",
     "output_type": "stream",
     "text": [
      "[[         1          0          0]\n",
      " [         0  645922816          0]\n",
      " [1245708288        116 -451866752]]\n",
      "[[6.23042070e-307 4.67296746e-307]\n",
      " [1.69121096e-306 2.46151512e-312]]\n"
     ]
    }
   ],
   "source": [
    "#Función 1: Empty\n",
    "#Return a new array of given shape and type, without initializing entries.\n",
    "\n",
    "print(np.empty([3, 3], dtype=int))\n",
    "        \n",
    "print(np.empty([2, 2], dtype=float))\n",
    "\n",
    "\n",
    "\n",
    "\n"
   ]
  },
  {
   "cell_type": "code",
   "execution_count": 145,
   "metadata": {},
   "outputs": [
    {
     "data": {
      "text/plain": [
       "array([[ -485059456,         402,           0],\n",
       "       [          0,      131074, -2147483648]])"
      ]
     },
     "execution_count": 145,
     "metadata": {},
     "output_type": "execute_result"
    }
   ],
   "source": [
    "#Función 2: Empty like\n",
    "#Return a new array with the same shape and type as a given array.\n",
    "\n",
    "a = ([10,20,30], [7,8,6])                         \n",
    "np.empty_like(a)\n"
   ]
  },
  {
   "cell_type": "code",
   "execution_count": 146,
   "metadata": {},
   "outputs": [
    {
     "data": {
      "text/plain": [
       "array([[1, 0, 0, 0],\n",
       "       [0, 1, 0, 0],\n",
       "       [0, 0, 1, 0],\n",
       "       [0, 0, 0, 1]])"
      ]
     },
     "execution_count": 146,
     "metadata": {},
     "output_type": "execute_result"
    }
   ],
   "source": [
    "#Función 3: eye\n",
    "#Return a 2-D array with ones on the diagonal and zeros elsewhere.\n",
    "\n",
    "np.eye(4, dtype=int)\n",
    "\n"
   ]
  },
  {
   "cell_type": "code",
   "execution_count": 147,
   "metadata": {},
   "outputs": [
    {
     "name": "stdout",
     "output_type": "stream",
     "text": [
      "[0 1 2 3 4]\n",
      "[ 4  5  6  7  8  9 10]\n",
      "[2 4 6 8]\n"
     ]
    }
   ],
   "source": [
    "#Función 4: arange\n",
    "#Return evenly spaced values within a given interval.\n",
    "print(np.arange(5))\n",
    "print(np.arange(4,11))\n",
    "print(np.arange(2,9,2))\n"
   ]
  },
  {
   "cell_type": "code",
   "execution_count": 149,
   "metadata": {},
   "outputs": [
    {
     "name": "stdout",
     "output_type": "stream",
     "text": [
      "[[0. 0. 0. 0. 0.]\n",
      " [0. 0. 0. 0. 0.]\n",
      " [1. 0. 0. 0. 0.]\n",
      " [1. 1. 0. 0. 0.]]\n",
      "[[1. 1. 1. 0. 0.]\n",
      " [1. 1. 1. 1. 0.]\n",
      " [1. 1. 1. 1. 1.]\n",
      " [1. 1. 1. 1. 1.]]\n"
     ]
    }
   ],
   "source": [
    "#Función 5: tri\n",
    "print(np.tri(4, 5, -2))\n",
    "print(np.tri(4, 5, 2))\n"
   ]
  },
  {
   "cell_type": "code",
   "execution_count": 150,
   "metadata": {},
   "outputs": [
    {
     "data": {
      "text/plain": [
       "array([[0, 0, 0],\n",
       "       [1, 0, 0],\n",
       "       [1, 2, 0],\n",
       "       [1, 2, 3]])"
      ]
     },
     "execution_count": 150,
     "metadata": {},
     "output_type": "execute_result"
    }
   ],
   "source": [
    "#Función 6: Tril\n",
    "#Lower triangle of an array. Return a copy of an array with elements above the k-th diagonal zeroed.\n",
    "\n",
    "np.tril([[1,2,3],[1,2,3],[1,2,3],[1,2,3]], -1)\n"
   ]
  },
  {
   "cell_type": "code",
   "execution_count": 152,
   "metadata": {},
   "outputs": [
    {
     "data": {
      "text/plain": [
       "array([[ 81,  27,   9,   3,   1],\n",
       "       [256,  64,  16,   4,   1],\n",
       "       [625, 125,  25,   5,   1],\n",
       "       [625, 125,  25,   5,   1]])"
      ]
     },
     "execution_count": 152,
     "metadata": {},
     "output_type": "execute_result"
    }
   ],
   "source": [
    "#Función 7: vander\n",
    "#Generate a Vandermonde matrix. The columns of the output matrix are powers of the input vector. \n",
    "#The order of the powers is determined by the increasing boolean argument. \n",
    "#Specifically, when increasing is False, the i-th output column is the input vector raised element-wise to the power \n",
    "#of N - i - 1. Such a matrix with a geometric progression in each row is named for Alexandre- Theophile Vandermonde.\n",
    "\n",
    "x = np.array([3, 4, 5, 5])\n",
    "N = 5\n",
    "np.vander(x, N)\n"
   ]
  },
  {
   "cell_type": "code",
   "execution_count": 164,
   "metadata": {},
   "outputs": [
    {
     "data": {
      "text/plain": [
       "matrix([[1, 6],\n",
       "        [3, 4]])"
      ]
     },
     "execution_count": 164,
     "metadata": {},
     "output_type": "execute_result"
    }
   ],
   "source": [
    "#Función 8: Mat\n",
    "#Interpret the input as a matrix.\n",
    "\n",
    "x = np.array([[1, 2], [3, 4]])\n",
    "m = np.asmatrix(x)\n",
    "x[0,1] = 6\n",
    "m\n",
    "\n",
    "\n"
   ]
  },
  {
   "cell_type": "code",
   "execution_count": 165,
   "metadata": {},
   "outputs": [
    {
     "data": {
      "text/plain": [
       "array([[1., 0., 0., 0., 0.],\n",
       "       [0., 1., 0., 0., 0.],\n",
       "       [0., 0., 1., 0., 0.],\n",
       "       [0., 0., 0., 1., 0.],\n",
       "       [0., 0., 0., 0., 1.]])"
      ]
     },
     "execution_count": 165,
     "metadata": {},
     "output_type": "execute_result"
    }
   ],
   "source": [
    "#Función 9: identity\n",
    "#Return the identity array.\n",
    "np.identity(5)\n"
   ]
  },
  {
   "cell_type": "code",
   "execution_count": 166,
   "metadata": {},
   "outputs": [
    {
     "data": {
      "text/plain": [
       "array([10, 20])"
      ]
     },
     "execution_count": 166,
     "metadata": {},
     "output_type": "execute_result"
    }
   ],
   "source": [
    "#Función 10: asarray\n",
    "#Convert the input to an array.\n",
    "b = [10, 20]\n",
    "np.asarray(b)\n"
   ]
  },
  {
   "cell_type": "code",
   "execution_count": 167,
   "metadata": {},
   "outputs": [
    {
     "name": "stdout",
     "output_type": "stream",
     "text": [
      "[1 2 3]\n",
      "[1 2 3]\n"
     ]
    }
   ],
   "source": [
    "#Función 11: Copy\n",
    "#Return an array copy of the given object.\n",
    "x = np.array([1, 2, 3])\n",
    "y = x\n",
    "z = np.copy(x)\n",
    "\n",
    "print(x)\n",
    "print(z)"
   ]
  },
  {
   "cell_type": "code",
   "execution_count": 169,
   "metadata": {},
   "outputs": [
    {
     "data": {
      "text/plain": [
       "array([0.        , 0.66666667, 1.33333333, 2.        ])"
      ]
     },
     "execution_count": 169,
     "metadata": {},
     "output_type": "execute_result"
    }
   ],
   "source": [
    "#Función 12: Linspace\n",
    "#Return evenly spaced numbers over a specified interval.\n",
    "#Returns num evenly spaced samples, calculated over the interval [start, stop].\n",
    "#The endpoint of the interval can optionally be excluded.\n",
    "np.linspace(0.0, 2.0, num=4)\n"
   ]
  },
  {
   "cell_type": "code",
   "execution_count": 170,
   "metadata": {},
   "outputs": [
    {
     "data": {
      "text/plain": [
       "array([ 3.        ,  5.19615242,  9.        , 15.58845727, 27.        ])"
      ]
     },
     "execution_count": 170,
     "metadata": {},
     "output_type": "execute_result"
    }
   ],
   "source": [
    "#Función 13: logspace\n",
    "#Return numbers spaced evenly on a log scale.\n",
    "#In linear space, the sequence starts at base ** start (base to the power of start) \n",
    "#and ends with base ** stop (see endpoint below).\n",
    "np.logspace(1.0, 3.0, num=5, base=3.0)\n"
   ]
  },
  {
   "cell_type": "code",
   "execution_count": 174,
   "metadata": {},
   "outputs": [
    {
     "name": "stdout",
     "output_type": "stream",
     "text": [
      "[[ 0 20 30]\n",
      " [ 0  0  6]\n",
      " [ 0  0  0]\n",
      " [ 0  0  0]]\n",
      "[[10 20 30]\n",
      " [ 0 50  6]\n",
      " [ 0  0 90]\n",
      " [ 0  0  0]]\n"
     ]
    }
   ],
   "source": [
    "#Función 14: triu\n",
    "#Upper triangle of an array.\n",
    "print(np.triu([[10,20,30],[40,50,6],[70,80,90],[10,11,12]],1))\n",
    "print(np.triu([[10,20,30],[40,50,6],[70,80,90],[10,11,12]],0))"
   ]
  },
  {
   "cell_type": "code",
   "execution_count": 204,
   "metadata": {},
   "outputs": [
    {
     "data": {
      "text/plain": [
       "array([[0.  , 1.25, 2.5 , 3.75, 5.  ],\n",
       "       [0.  , 1.25, 2.5 , 3.75, 5.  ],\n",
       "       [0.  , 1.25, 2.5 , 3.75, 5.  ],\n",
       "       [0.  , 1.25, 2.5 , 3.75, 5.  ],\n",
       "       [0.  , 1.25, 2.5 , 3.75, 5.  ],\n",
       "       [0.  , 1.25, 2.5 , 3.75, 5.  ],\n",
       "       [0.  , 1.25, 2.5 , 3.75, 5.  ],\n",
       "       [0.  , 1.25, 2.5 , 3.75, 5.  ],\n",
       "       [0.  , 1.25, 2.5 , 3.75, 5.  ],\n",
       "       [0.  , 1.25, 2.5 , 3.75, 5.  ]])"
      ]
     },
     "execution_count": 204,
     "metadata": {},
     "output_type": "execute_result"
    }
   ],
   "source": [
    "#Función 15: Meshgrid\n",
    "#Return coordinate matrices from coordinate vectors.\n",
    "nx, ny = (5, 10)\n",
    "x = np.linspace(0, 5, nx)\n",
    "y = np.linspace(0, 5, ny)\n",
    "xv, yv = np.meshgrid(x, y)\n",
    "xv\n"
   ]
  },
  {
   "cell_type": "code",
   "execution_count": 205,
   "metadata": {},
   "outputs": [
    {
     "name": "stdout",
     "output_type": "stream",
     "text": [
      "[[10  0  0  0]\n",
      " [ 0 20  0  0]\n",
      " [ 0  0 30  0]\n",
      " [ 0  0  0 40]]\n",
      "[[ 0 11  0]\n",
      " [ 0  0 22]\n",
      " [ 0  0  0]]\n"
     ]
    }
   ],
   "source": [
    "#Función 16: diagflat\n",
    "#Create a two-dimensional array with the flattened input as a diagonal.\n",
    "print(np.diagflat([[10,20], [30,40]]))\n",
    "print(np.diagflat([11,22], 1))\n"
   ]
  },
  {
   "cell_type": "code",
   "execution_count": 206,
   "metadata": {},
   "outputs": [
    {
     "name": "stdout",
     "output_type": "stream",
     "text": [
      "[   1.   10.  100. 1000.]\n",
      "[  1.           5.62341325  31.6227766  177.827941  ]\n"
     ]
    }
   ],
   "source": [
    "#Función 17: geomspace\n",
    "#Return numbers spaced evenly on a log scale (a geometric progression).\n",
    "print(np.geomspace(1, 1000, num=4))\n",
    "print(np.geomspace(1, 1000, num=4, endpoint=False))\n"
   ]
  },
  {
   "cell_type": "code",
   "execution_count": 207,
   "metadata": {},
   "outputs": [
    {
     "name": "stdout",
     "output_type": "stream",
     "text": [
      "[0 1 2 3 4 5]\n",
      "[1. 1. 1. 1. 1.]\n"
     ]
    }
   ],
   "source": [
    "#Función 18: Full like\n",
    "#Return a full array with the same shape and type as a given array.\n",
    "\n",
    "a = np.arange(6, dtype=int)\n",
    "print(a)\n",
    "print(np.full_like(x, 1))\n"
   ]
  },
  {
   "cell_type": "markdown",
   "metadata": {},
   "source": [
    "#### Array manipulations routine"
   ]
  },
  {
   "cell_type": "code",
   "execution_count": 208,
   "metadata": {},
   "outputs": [
    {
     "data": {
      "text/plain": [
       "(5, 5)"
      ]
     },
     "execution_count": 208,
     "metadata": {},
     "output_type": "execute_result"
    }
   ],
   "source": [
    "#Función 19: Shape\n",
    "#Return the shape of an array.\n",
    "\n",
    "np.shape(np.eye(5))"
   ]
  },
  {
   "cell_type": "code",
   "execution_count": 211,
   "metadata": {},
   "outputs": [
    {
     "name": "stdout",
     "output_type": "stream",
     "text": [
      "[10 20 30 40 50 60]\n",
      "[[10 20]\n",
      " [30 40]\n",
      " [50 60]]\n"
     ]
    }
   ],
   "source": [
    "#Función 20: Reshape\n",
    "#Gives a new shape to an array without changing its data.\n",
    "a = np.array([[10,20,30], [40,50,60]])\n",
    "print(np.reshape(a, 6))\n",
    "print(np.reshape(a, (3,-1)))       "
   ]
  },
  {
   "cell_type": "code",
   "execution_count": 212,
   "metadata": {},
   "outputs": [
    {
     "name": "stdout",
     "output_type": "stream",
     "text": [
      "[10 20 30 40 50 60]\n"
     ]
    }
   ],
   "source": [
    "#Función 21: Ravel\n",
    "#Return a contiguous flattened array.\n",
    "b = np.array([[10, 20, 30], [40, 50, 60]])\n",
    "np.ravel(b)\n",
    "print(np.ravel(b))\n"
   ]
  },
  {
   "cell_type": "code",
   "execution_count": 214,
   "metadata": {},
   "outputs": [
    {
     "data": {
      "text/plain": [
       "array([[2, 3, 4],\n",
       "       [5, 6, 7]])"
      ]
     },
     "execution_count": 214,
     "metadata": {},
     "output_type": "execute_result"
    }
   ],
   "source": [
    "#Función 22: ndarray.flat\n",
    "a = np.arange(2, 8).reshape(2, 3)\n",
    "a\n"
   ]
  },
  {
   "cell_type": "code",
   "execution_count": 215,
   "metadata": {},
   "outputs": [
    {
     "data": {
      "text/plain": [
       "array([10, 20, 30, 40])"
      ]
     },
     "execution_count": 215,
     "metadata": {},
     "output_type": "execute_result"
    }
   ],
   "source": [
    "#Función 23: ndarray.flatten\n",
    "#Return a copy of the array collapsed into one dimension.\n",
    "x = np.array([[10,20], [30,40]])\n",
    "x.flatten()\n"
   ]
  },
  {
   "cell_type": "code",
   "execution_count": 218,
   "metadata": {},
   "outputs": [
    {
     "name": "stdout",
     "output_type": "stream",
     "text": [
      "(4, 5, 3)\n",
      "(5, 3, 4)\n"
     ]
    }
   ],
   "source": [
    "#Función 24: Moveaxis\n",
    "#Move axes of an array to new positions.\n",
    "x = np.zeros((3, 4, 5))\n",
    "print(np.moveaxis(x, 0, -1).shape)\n",
    "print(np.moveaxis(x, -1, 0).shape)\n"
   ]
  },
  {
   "cell_type": "code",
   "execution_count": 221,
   "metadata": {},
   "outputs": [
    {
     "name": "stdout",
     "output_type": "stream",
     "text": [
      "[[[[1. 1. 1. 1. 1. 1.]\n",
      "   [1. 1. 1. 1. 1. 1.]\n",
      "   [1. 1. 1. 1. 1. 1.]\n",
      "   [1. 1. 1. 1. 1. 1.]\n",
      "   [1. 1. 1. 1. 1. 1.]]\n",
      "\n",
      "  [[1. 1. 1. 1. 1. 1.]\n",
      "   [1. 1. 1. 1. 1. 1.]\n",
      "   [1. 1. 1. 1. 1. 1.]\n",
      "   [1. 1. 1. 1. 1. 1.]\n",
      "   [1. 1. 1. 1. 1. 1.]]\n",
      "\n",
      "  [[1. 1. 1. 1. 1. 1.]\n",
      "   [1. 1. 1. 1. 1. 1.]\n",
      "   [1. 1. 1. 1. 1. 1.]\n",
      "   [1. 1. 1. 1. 1. 1.]\n",
      "   [1. 1. 1. 1. 1. 1.]]\n",
      "\n",
      "  [[1. 1. 1. 1. 1. 1.]\n",
      "   [1. 1. 1. 1. 1. 1.]\n",
      "   [1. 1. 1. 1. 1. 1.]\n",
      "   [1. 1. 1. 1. 1. 1.]\n",
      "   [1. 1. 1. 1. 1. 1.]]]\n",
      "\n",
      "\n",
      " [[[1. 1. 1. 1. 1. 1.]\n",
      "   [1. 1. 1. 1. 1. 1.]\n",
      "   [1. 1. 1. 1. 1. 1.]\n",
      "   [1. 1. 1. 1. 1. 1.]\n",
      "   [1. 1. 1. 1. 1. 1.]]\n",
      "\n",
      "  [[1. 1. 1. 1. 1. 1.]\n",
      "   [1. 1. 1. 1. 1. 1.]\n",
      "   [1. 1. 1. 1. 1. 1.]\n",
      "   [1. 1. 1. 1. 1. 1.]\n",
      "   [1. 1. 1. 1. 1. 1.]]\n",
      "\n",
      "  [[1. 1. 1. 1. 1. 1.]\n",
      "   [1. 1. 1. 1. 1. 1.]\n",
      "   [1. 1. 1. 1. 1. 1.]\n",
      "   [1. 1. 1. 1. 1. 1.]\n",
      "   [1. 1. 1. 1. 1. 1.]]\n",
      "\n",
      "  [[1. 1. 1. 1. 1. 1.]\n",
      "   [1. 1. 1. 1. 1. 1.]\n",
      "   [1. 1. 1. 1. 1. 1.]\n",
      "   [1. 1. 1. 1. 1. 1.]\n",
      "   [1. 1. 1. 1. 1. 1.]]]\n",
      "\n",
      "\n",
      " [[[1. 1. 1. 1. 1. 1.]\n",
      "   [1. 1. 1. 1. 1. 1.]\n",
      "   [1. 1. 1. 1. 1. 1.]\n",
      "   [1. 1. 1. 1. 1. 1.]\n",
      "   [1. 1. 1. 1. 1. 1.]]\n",
      "\n",
      "  [[1. 1. 1. 1. 1. 1.]\n",
      "   [1. 1. 1. 1. 1. 1.]\n",
      "   [1. 1. 1. 1. 1. 1.]\n",
      "   [1. 1. 1. 1. 1. 1.]\n",
      "   [1. 1. 1. 1. 1. 1.]]\n",
      "\n",
      "  [[1. 1. 1. 1. 1. 1.]\n",
      "   [1. 1. 1. 1. 1. 1.]\n",
      "   [1. 1. 1. 1. 1. 1.]\n",
      "   [1. 1. 1. 1. 1. 1.]\n",
      "   [1. 1. 1. 1. 1. 1.]]\n",
      "\n",
      "  [[1. 1. 1. 1. 1. 1.]\n",
      "   [1. 1. 1. 1. 1. 1.]\n",
      "   [1. 1. 1. 1. 1. 1.]\n",
      "   [1. 1. 1. 1. 1. 1.]\n",
      "   [1. 1. 1. 1. 1. 1.]]]]\n",
      "(3, 6, 4, 5)\n",
      "(5, 3, 4, 6)\n"
     ]
    }
   ],
   "source": [
    "#Función 25: rollaxis\n",
    "#Roll the specified axis backwards, until it lies in a given position.\n",
    "a = np.ones((3,4,5,6))\n",
    "print(a)\n",
    "print(np.rollaxis(a, 3, 1).shape)\n",
    "print(np.rollaxis(a, 2).shape)"
   ]
  },
  {
   "cell_type": "code",
   "execution_count": 223,
   "metadata": {},
   "outputs": [
    {
     "name": "stdout",
     "output_type": "stream",
     "text": [
      "[[10 20]\n",
      " [30 40]]\n",
      "La matriz transpuesta es:\n",
      "[[10 30]\n",
      " [20 40]]\n"
     ]
    }
   ],
   "source": [
    "#Función 26: ndarray.T\n",
    "#The transposed array.\n",
    "x = np.array([[10,20],[30,40]])\n",
    "print(x)\n",
    "print(\"La matriz es:\")\n",
    "print(x.T)"
   ]
  },
  {
   "cell_type": "code",
   "execution_count": 226,
   "metadata": {},
   "outputs": [
    {
     "name": "stdout",
     "output_type": "stream",
     "text": [
      "[[4 5]\n",
      " [6 7]]\n",
      "La matriz transpuesta es:\n",
      "[[4 6]\n",
      " [5 7]]\n"
     ]
    }
   ],
   "source": [
    "#Función 27: transpose\n",
    "#Reverse or permute the axes of an array; returns the modified array.\n",
    "x = np.arange(4,8).reshape((2,2))\n",
    "print(x)\n",
    "print(\"La matriz transpuesta es:\")\n",
    "print(np.transpose(x))\n"
   ]
  },
  {
   "cell_type": "code",
   "execution_count": 229,
   "metadata": {},
   "outputs": [
    {
     "name": "stdout",
     "output_type": "stream",
     "text": [
      "[1.]\n",
      "[[ 0.  1.  2.  3.]\n",
      " [ 4.  5.  6.  7.]\n",
      " [ 8.  9. 10. 11.]]\n",
      "La matriz en una dimensión es:\n",
      "[[ 0.  1.  2.  3.]\n",
      " [ 4.  5.  6.  7.]\n",
      " [ 8.  9. 10. 11.]]\n"
     ]
    }
   ],
   "source": [
    "#Función 28: at least 1d\n",
    "#Convert inputs to arrays with at least one dimension\n",
    "print(np.atleast_1d(1.0))\n",
    "\n",
    "x = np.arange(12.0).reshape(3,4)\n",
    "print(x)\n",
    "print(\"La matriz en una dimensión es:\")\n",
    "print(np.atleast_1d(x))"
   ]
  },
  {
   "cell_type": "code",
   "execution_count": 230,
   "metadata": {},
   "outputs": [
    {
     "name": "stdout",
     "output_type": "stream",
     "text": [
      "[[3.]]\n",
      "[0 1 2 3]\n",
      "La matriz en dos dimensiones es:\n",
      "[[0 1 2 3]]\n"
     ]
    }
   ],
   "source": [
    "#Función 29: at least 2d\n",
    "#View inputs as arrays with at least two dimensions.\n",
    "print(np.atleast_2d(3.0))\n",
    "x = np.arange(4)\n",
    "print(x)\n",
    "print(\"La matriz en dos dimensiones es:\")\n",
    "print(np.atleast_2d(x))\n"
   ]
  },
  {
   "cell_type": "code",
   "execution_count": 235,
   "metadata": {},
   "outputs": [
    {
     "name": "stdout",
     "output_type": "stream",
     "text": [
      "[[[3.]]]\n",
      "[0 1 2 3 4]\n",
      "La matriz es:\n",
      "(1, 5, 1)\n"
     ]
    }
   ],
   "source": [
    "#Función 30: at least 3d\n",
    "#View inputs as arrays with at least three dimensions.\n",
    "print(np.atleast_3d(3.0))\n",
    "x = np.arange(5)\n",
    "print(x)\n",
    "print(\"La matriz es:\")\n",
    "print(np.atleast_3d(x).shape)\n",
    "\n"
   ]
  },
  {
   "cell_type": "code",
   "execution_count": 242,
   "metadata": {},
   "outputs": [
    {
     "name": "stdout",
     "output_type": "stream",
     "text": [
      "(1, 3, 1)\n",
      "(3,)\n",
      "(3, 1)\n"
     ]
    }
   ],
   "source": [
    "#Función 31: Squeeze\n",
    "#Remove single-dimensional entries from the shape of an array.\n",
    "x = np.array([[[10], [11], [22]]])\n",
    "print(x.shape)\n",
    "print(np.squeeze(x).shape)\n",
    "print(np.squeeze(x, axis=0).shape)\n"
   ]
  },
  {
   "cell_type": "code",
   "execution_count": 243,
   "metadata": {},
   "outputs": [
    {
     "data": {
      "text/plain": [
       "40"
      ]
     },
     "execution_count": 243,
     "metadata": {},
     "output_type": "execute_result"
    }
   ],
   "source": [
    "#Función 32: asscalar\n",
    "#Convert an array of size 1 to its scalar equivalent.\n",
    "np.asscalar(np.array([40]))\n"
   ]
  },
  {
   "cell_type": "code",
   "execution_count": 245,
   "metadata": {},
   "outputs": [
    {
     "data": {
      "text/plain": [
       "array([[10, 20],\n",
       "       [30, 40],\n",
       "       [50, 60]])"
      ]
     },
     "execution_count": 245,
     "metadata": {},
     "output_type": "execute_result"
    }
   ],
   "source": [
    "#Función 33: concatenate\n",
    "#Join a sequence of arrays along an existing axis.\n",
    "x = np.array([[10, 20], [30, 40]])\n",
    "y = np.array([[50, 60]])\n",
    "np.concatenate((x, y), axis=0)\n",
    "\n"
   ]
  },
  {
   "cell_type": "code",
   "execution_count": 247,
   "metadata": {},
   "outputs": [
    {
     "name": "stdout",
     "output_type": "stream",
     "text": [
      "[[10 20 30]\n",
      " [25 35 45]]\n",
      "[10 20 30 25 35 45]\n"
     ]
    }
   ],
   "source": [
    "#Función 34: Stack\n",
    "#Join a sequence of arrays along a new axis.\n",
    "x = np.array([10, 20, 30])\n",
    "y = np.array([25, 35, 45])\n",
    "z=np.stack((x, y))\n",
    "print(z)\n",
    "#aplicando ravel\n",
    "print(np.ravel(z)) "
   ]
  },
  {
   "cell_type": "code",
   "execution_count": 248,
   "metadata": {},
   "outputs": [
    {
     "data": {
      "text/plain": [
       "[array([0, 1, 2]), array([3, 4, 5]), array([6, 7, 8])]"
      ]
     },
     "execution_count": 248,
     "metadata": {},
     "output_type": "execute_result"
    }
   ],
   "source": [
    "#Función 35: Split \n",
    "#Split an array into multiple sub-arrays as views into ary.\n",
    "a = np.arange(9)\n",
    "np.split(a, 3)\n"
   ]
  },
  {
   "cell_type": "code",
   "execution_count": 252,
   "metadata": {},
   "outputs": [
    {
     "data": {
      "text/plain": [
       "[array([0, 1, 2]), array([3, 4, 5]), array([6, 7])]"
      ]
     },
     "execution_count": 252,
     "metadata": {},
     "output_type": "execute_result"
    }
   ],
   "source": [
    "#Función 36: Array split\n",
    "#Split an array into multiple sub-arrays.\n",
    "b = np.arange(8)\n",
    "np.array_split(b, 3)\n",
    "\n"
   ]
  },
  {
   "cell_type": "code",
   "execution_count": 255,
   "metadata": {},
   "outputs": [
    {
     "name": "stdout",
     "output_type": "stream",
     "text": [
      "[[ 1  2  3  4]\n",
      " [ 5  6  7  8]\n",
      " [ 9 10 11 12]]\n",
      "[[ 1  2  3  4]\n",
      " [ 9 10 11 12]]\n",
      "\n",
      "[[1 2 3 4]\n",
      " [5 6 7 8]]\n",
      "\n",
      "[[ 5  6  7  8]\n",
      " [ 9 10 11 12]]\n"
     ]
    }
   ],
   "source": [
    "#Función 37: Delete\n",
    "#Return a new array with sub-arrays along an axis deleted. \n",
    "#For a one dimensional array, this returns those entries not returned by arr[obj].\n",
    "c = np.array([[1,2,3,4], [5,6,7,8], [9,10,11,12]])\n",
    "print(c)\n",
    "print(np.delete(c, 1, 0))#Elimina el segundo array\n",
    "print()\n",
    "print(np.delete(c, 2, 0))#Elimina el último array\n",
    "print()\n",
    "print(np.delete(c, 0, 0))#Elimina el primer array"
   ]
  },
  {
   "cell_type": "code",
   "execution_count": 256,
   "metadata": {},
   "outputs": [
    {
     "name": "stdout",
     "output_type": "stream",
     "text": [
      "[1 2 3 4 5 6 7 8 9]\n",
      "Otra opción es: \n",
      "[[1 2 3]\n",
      " [4 5 6]\n",
      " [7 8 9]]\n"
     ]
    }
   ],
   "source": [
    "#Función 38: Append\n",
    "#Append values to the end of an array.\n",
    "print(np.append([1, 2, 3], [[4, 5, 6], [7, 8, 9]]))\n",
    "\n",
    "print(\"Otra opción es: \")\n",
    "print(np.append([[1, 2, 3], [4, 5, 6]], [[7, 8, 9]], axis=0))\n"
   ]
  },
  {
   "cell_type": "code",
   "execution_count": 260,
   "metadata": {},
   "outputs": [
    {
     "name": "stdout",
     "output_type": "stream",
     "text": [
      "[[10 20]\n",
      " [30 40]]\n",
      "Aplicando rot90 se obtiene: \n",
      "[[20 40]\n",
      " [10 30]]\n",
      "Otro ejemplo sería: \n",
      "[[10 20 30]\n",
      " [40 50 60]]\n",
      "Aplicando rot90 se obtiene: \n",
      "[[30 60]\n",
      " [20 50]\n",
      " [10 40]]\n"
     ]
    }
   ],
   "source": [
    "#Función 39: rot90\n",
    "#Rotate an array by 90 degrees in the plane specified by axes.\n",
    "a = np.array([[10,20],[30,40]], int)\n",
    "print(a)\n",
    "print(\"Aplicando rot90 se obtiene: \")\n",
    "print(np.rot90(a))\n",
    "print(\"Otro ejemplo sería: \")\n",
    "b = np.array([[10,20,30],[40,50,60]], int)\n",
    "print(b)\n",
    "print(\"Aplicando rot90 se obtiene: \")\n",
    "print(np.rot90(b))"
   ]
  },
  {
   "cell_type": "markdown",
   "metadata": {},
   "source": [
    "#### Binary operations"
   ]
  },
  {
   "cell_type": "code",
   "execution_count": 261,
   "metadata": {},
   "outputs": [
    {
     "name": "stdout",
     "output_type": "stream",
     "text": [
      "1\n",
      "1100\n"
     ]
    }
   ],
   "source": [
    "#Función 40: bitwise_and\n",
    "#Compute the bit-wise AND of two arrays element-wise.\n",
    "print(np.bitwise_and(13, 17))\n",
    "print(np.binary_repr(12))"
   ]
  },
  {
   "cell_type": "code",
   "execution_count": 264,
   "metadata": {},
   "outputs": [
    {
     "name": "stdout",
     "output_type": "stream",
     "text": [
      "31\n",
      "34\n",
      "[33  5]\n"
     ]
    }
   ],
   "source": [
    "#Función 41: Bitwise_or\n",
    "#Compute the bit-wise OR of two arrays element-wise.\n",
    "print(np.bitwise_or(15, 17))\n",
    "print(np.bitwise_or(32, 2))\n",
    "print(np.bitwise_or([33, 5], 1))"
   ]
  },
  {
   "cell_type": "code",
   "execution_count": 267,
   "metadata": {},
   "outputs": [
    {
     "name": "stdout",
     "output_type": "stream",
     "text": [
      "240\n",
      "11110000\n"
     ]
    }
   ],
   "source": [
    "#Función 42: Invert\n",
    "#Compute bit-wise inversion, or bit-wise NOT, element-wise.\n",
    "x = np.invert(np.array(15, dtype=np.uint8))\n",
    "print(x)\n",
    "print(np.binary_repr(x, width=8))\n"
   ]
  },
  {
   "cell_type": "code",
   "execution_count": 269,
   "metadata": {},
   "outputs": [
    {
     "name": "stdout",
     "output_type": "stream",
     "text": [
      "101\n",
      "-111\n"
     ]
    }
   ],
   "source": [
    "#Función 43: Binary repr\n",
    "#Return the binary representation of the input number as a string.\n",
    "print(np.binary_repr(5))\n",
    "print(np.binary_repr(-7))"
   ]
  },
  {
   "cell_type": "markdown",
   "metadata": {},
   "source": [
    "#### String Operations"
   ]
  },
  {
   "cell_type": "code",
   "execution_count": 272,
   "metadata": {},
   "outputs": [
    {
     "data": {
      "text/plain": [
       "8"
      ]
     },
     "execution_count": 272,
     "metadata": {},
     "output_type": "execute_result"
    }
   ],
   "source": [
    "#Función 44: Char add\n",
    "#Return element-wise string concatenation for two arrays of str or unicode.\n",
    "a=np.array(3)\n",
    "b=np.array(5)\n",
    "np.add(a,b)"
   ]
  },
  {
   "cell_type": "code",
   "execution_count": 273,
   "metadata": {},
   "outputs": [
    {
     "data": {
      "text/plain": [
       "15"
      ]
     },
     "execution_count": 273,
     "metadata": {},
     "output_type": "execute_result"
    }
   ],
   "source": [
    "#Función 45:Char Multiply\n",
    "#Return (a * i), that is string multiple concatenation, element-wise.\n",
    "a=np.array(3)\n",
    "b=np.array(5)\n",
    "np.multiply(a,b)"
   ]
  },
  {
   "cell_type": "code",
   "execution_count": 274,
   "metadata": {},
   "outputs": [
    {
     "data": {
      "text/plain": [
       "3"
      ]
     },
     "execution_count": 274,
     "metadata": {},
     "output_type": "execute_result"
    }
   ],
   "source": [
    "#Función 46: Char Mod\n",
    "#Return (a % i), that is pre-Python 2.6 string formatting (interpolation), \n",
    "#element-wise for a pair of array_likes of str or unicode.\n",
    "a=np.array(3)\n",
    "b=np.array(5)\n",
    "np.mod(a,b)"
   ]
  },
  {
   "cell_type": "code",
   "execution_count": 276,
   "metadata": {},
   "outputs": [
    {
     "name": "stdout",
     "output_type": "stream",
     "text": [
      "[b'a1b2' b'1b2a' b'b2a1' b'2a1b']\n",
      "El proceso es:\n",
      "[b'A1b2' b'1b2a' b'B2a1' b'2a1b']\n"
     ]
    }
   ],
   "source": [
    "#Función 47: capitalize\n",
    "#Return a copy of a with only the first character of each element capitalized.\n",
    "a = np.array(['a1b2','1b2a','b2a1','2a1b'],'S4')\n",
    "print(a)\n",
    "print(\"El proceso es:\")\n",
    "print(np.char.capitalize(a))\n"
   ]
  },
  {
   "cell_type": "code",
   "execution_count": 283,
   "metadata": {},
   "outputs": [
    {
     "name": "stdout",
     "output_type": "stream",
     "text": [
      "[b'\\x81\\xc1\\x81\\xc1\\x81\\xc1' b'@@\\x81\\xc1@@'\n",
      " b'\\x81\\x82\\xc2\\xc1\\xc2\\x82\\x81']\n"
     ]
    }
   ],
   "source": [
    "#Función 48: Char Decode\n",
    "#Calls str.decode element-wise.\n",
    "c = np.array(['aAaAaA', '  aA  ', 'abBABba'])\n",
    "print(np.char.encode(c, encoding='cp037'))\n",
    "\n"
   ]
  },
  {
   "cell_type": "code",
   "execution_count": 284,
   "metadata": {},
   "outputs": [
    {
     "name": "stdout",
     "output_type": "stream",
     "text": [
      "['hola' 'h1u2g3o' 'bca1']\n"
     ]
    }
   ],
   "source": [
    "#Función 49: Char Lower\n",
    "#Return an array with the elements converted to lowercase\n",
    "d = np.array(['HOLA', 'H1U2G3O', 'BCA1'])\n",
    "print(np.char.lower(d))"
   ]
  },
  {
   "cell_type": "code",
   "execution_count": 285,
   "metadata": {},
   "outputs": [
    {
     "name": "stdout",
     "output_type": "stream",
     "text": [
      "['AaAaA' '  aA  ' 'bBABba']\n"
     ]
    }
   ],
   "source": [
    "#Función 50: Char Lstrip\n",
    "#For each element in a, return a copy with the leading characters removed.\n",
    "c = np.array(['aAaAaA', '  aA  ', 'abBABba'])\n",
    "print(np.char.lstrip(c, 'a'))"
   ]
  },
  {
   "cell_type": "code",
   "execution_count": 286,
   "metadata": {},
   "outputs": [
    {
     "name": "stdout",
     "output_type": "stream",
     "text": [
      "[b'A1b C' b'1B cA' b'B cA1' b'Ca1B']\n"
     ]
    }
   ],
   "source": [
    "#Función 51: Swapcase\n",
    "#Return element-wise a copy of the string with uppercase characters converted to lowercase and vice versa.\n",
    "c=np.array(['a1B c','1b Ca','b Ca1','cA1b'],'S5')\n",
    "print(np.char.swapcase(c))"
   ]
  },
  {
   "cell_type": "code",
   "execution_count": 287,
   "metadata": {},
   "outputs": [
    {
     "name": "stdout",
     "output_type": "stream",
     "text": [
      "[b'A1B C' b'1B Ca' b'B Ca1' b'Ca1B']\n"
     ]
    }
   ],
   "source": [
    "#Función 52: Char Title\n",
    "#Return element-wise title cased version of string or unicode.\n",
    "d=np.array(['a1b c','1b ca','b ca1','ca1b'],'S5')\n",
    "print(np.char.title(c))"
   ]
  },
  {
   "cell_type": "code",
   "execution_count": 289,
   "metadata": {},
   "outputs": [
    {
     "name": "stdout",
     "output_type": "stream",
     "text": [
      "['HOLA' 'SOY' 'HUGO']\n"
     ]
    }
   ],
   "source": [
    "#Función 53: Char Upper\n",
    "#Return an array with the elements converted to uppercase.\n",
    "a = np.array([\"hola\",\"soy\",\"hugo\"])\n",
    "print(np.char.upper(a))"
   ]
  },
  {
   "cell_type": "code",
   "execution_count": 291,
   "metadata": {},
   "outputs": [
    {
     "name": "stdout",
     "output_type": "stream",
     "text": [
      "[1 1 3]\n"
     ]
    }
   ],
   "source": [
    "#Función 54: Char count\n",
    "#Returns an array with the number of non-overlapping occurrences of substring sub in the range [start, end].\n",
    "c = np.array(['Dulce', ' Hugo  ', 'uUuuU'])\n",
    "print(np.char.count(c, 'u'))"
   ]
  },
  {
   "cell_type": "code",
   "execution_count": 292,
   "metadata": {},
   "outputs": [
    {
     "name": "stdout",
     "output_type": "stream",
     "text": [
      "[False  True]\n"
     ]
    }
   ],
   "source": [
    "#Función 55: Endswith\n",
    "#Returns a boolean array which is True where the string element in a ends with suffix, otherwise False.\n",
    "a = np.array(['correr', 'volar'])\n",
    "print(np.char.endswith(a, 'ar'))\n"
   ]
  },
  {
   "cell_type": "markdown",
   "metadata": {},
   "source": [
    "#### Más sobre Array manipulations routines"
   ]
  },
  {
   "cell_type": "code",
   "execution_count": 293,
   "metadata": {},
   "outputs": [
    {
     "name": "stdout",
     "output_type": "stream",
     "text": [
      "[10 11  0  1  2  3  4  5  6  7  8  9]\n"
     ]
    }
   ],
   "source": [
    "#Función 56: Roll\n",
    "#Roll array elements along a given axis.\n",
    "y = np.arange(12)\n",
    "print(np.roll(y, 2))\n"
   ]
  },
  {
   "cell_type": "code",
   "execution_count": 294,
   "metadata": {},
   "outputs": [
    {
     "name": "stdout",
     "output_type": "stream",
     "text": [
      "[10 20 30 40 50 60]\n",
      "[[10 20]\n",
      " [30 40]\n",
      " [50 60]]\n"
     ]
    }
   ],
   "source": [
    "#Función 57: Reshape\n",
    "x = np.array([[10,20,30], [40,50,60]])\n",
    "print(np.reshape(x, 6))\n",
    "print(np.reshape(x, (3,-1)))\n"
   ]
  },
  {
   "cell_type": "code",
   "execution_count": 298,
   "metadata": {},
   "outputs": [
    {
     "name": "stdout",
     "output_type": "stream",
     "text": [
      "[[[0 1]\n",
      "  [2 3]]\n",
      "\n",
      " [[4 5]\n",
      "  [6 7]]]\n",
      "Con flip en 0\n",
      "[[[4 5]\n",
      "  [6 7]]\n",
      "\n",
      " [[0 1]\n",
      "  [2 3]]]\n",
      "Con flip en 1\n",
      "[[[2 3]\n",
      "  [0 1]]\n",
      "\n",
      " [[6 7]\n",
      "  [4 5]]]\n"
     ]
    }
   ],
   "source": [
    "#Función 58: Flip\n",
    "#Reverse the order of elements in an array along the given axis.\n",
    "x = np.arange(8).reshape((2,2,2))\n",
    "print(x)\n",
    "print(\"Con flip en 0\")\n",
    "print(np.flip(x, 0))\n",
    "print(\"Con flip en 1\")\n",
    "print(np.flip(x, 1))"
   ]
  },
  {
   "cell_type": "code",
   "execution_count": 300,
   "metadata": {},
   "outputs": [
    {
     "name": "stdout",
     "output_type": "stream",
     "text": [
      "[[4 0 0]\n",
      " [0 5 0]\n",
      " [0 0 6]]\n",
      "Con el procedimiento queda de la siguiente manera:\n",
      "[[0 0 4]\n",
      " [0 5 0]\n",
      " [6 0 0]]\n"
     ]
    }
   ],
   "source": [
    "#Función 59: fliplr\n",
    "x = np.diag([4,5,6])\n",
    "print(x)\n",
    "print(\"Con el procedimiento queda de la siguiente manera:\")\n",
    "print(np.fliplr(x))\n"
   ]
  },
  {
   "cell_type": "code",
   "execution_count": 302,
   "metadata": {},
   "outputs": [
    {
     "name": "stdout",
     "output_type": "stream",
     "text": [
      "[[1 0 0]\n",
      " [0 2 0]\n",
      " [0 0 3]]\n",
      "El procedimiento da como resultado:\n",
      "[[0 0 3]\n",
      " [0 2 0]\n",
      " [1 0 0]]\n"
     ]
    }
   ],
   "source": [
    "#Función 60: flipud\n",
    "#Flip the entries in each column in the up/down direction. \n",
    "#Rows are preserved, but appear in a different order than before.\n",
    "z = np.diag([1, 2, 3])\n",
    "print(z)\n",
    "print(\"El procedimiento da como resultado:\")\n",
    "print(np.flipud(z))"
   ]
  },
  {
   "cell_type": "code",
   "execution_count": 303,
   "metadata": {},
   "outputs": [
    {
     "data": {
      "text/plain": [
       "array([[10, 11, 20],\n",
       "       [32, 10, 11]])"
      ]
     },
     "execution_count": 303,
     "metadata": {},
     "output_type": "execute_result"
    }
   ],
   "source": [
    "#Función 61: Resize\n",
    "#Return a new array with the specified shape.\n",
    "x=np.array([[10,11],[20,32]])\n",
    "np.resize(x,(2,3))\n"
   ]
  },
  {
   "cell_type": "code",
   "execution_count": 304,
   "metadata": {},
   "outputs": [
    {
     "name": "stdout",
     "output_type": "stream",
     "text": [
      "[1 2 3 0 2 1]\n",
      "[0 0 0 1 2 3 0 2 1]\n"
     ]
    }
   ],
   "source": [
    "#Función 62: trim zeros\n",
    "#Trim the leading and/or trailing zeros from a 1-D array or sequence.\n",
    "a = np.array((0, 0, 0, 1, 2, 3, 0, 2, 1, 0))\n",
    "print(np.trim_zeros(a)) #Elimina los elementos 0\n",
    "print(np.trim_zeros(a, 'b'))#Elimina los caracteres b, pero como no hay deja igual a \"a\""
   ]
  },
  {
   "cell_type": "code",
   "execution_count": 305,
   "metadata": {},
   "outputs": [
    {
     "data": {
      "text/plain": [
       "array([10, 11, 20, 33])"
      ]
     },
     "execution_count": 305,
     "metadata": {},
     "output_type": "execute_result"
    }
   ],
   "source": [
    "#Función 63: Unique\n",
    "#Find the unique elements of an array.\n",
    "np.unique([10, 11, 20, 20, 20, 20 , 10, 33, 33])\n"
   ]
  },
  {
   "cell_type": "code",
   "execution_count": 306,
   "metadata": {},
   "outputs": [
    {
     "name": "stdout",
     "output_type": "stream",
     "text": [
      "Con dos repeticiones queda:\n",
      "[0 0 0 1 2 3 0 2 1 0 0 0 0 1 2 3 0 2 1 0]\n",
      "Con cinco repeticiones queda:\n",
      "[0 0 0 1 2 3 0 2 1 0 0 0 0 1 2 3 0 2 1 0 0 0 0 1 2 3 0 2 1 0 0 0 0 1 2 3 0\n",
      " 2 1 0 0 0 0 1 2 3 0 2 1 0]\n"
     ]
    }
   ],
   "source": [
    "#Función 64: Tile\n",
    "#Construct an array by repeating A the number of times given by reps.\n",
    "x =np.array([10,20,30])\n",
    "print(\"Con dos repeticiones queda:\")\n",
    "print(np.tile(a, 2))\n",
    "print(\"Con cinco repeticiones queda:\")\n",
    "print(np.tile(a,5))"
   ]
  },
  {
   "cell_type": "code",
   "execution_count": 308,
   "metadata": {},
   "outputs": [
    {
     "name": "stdout",
     "output_type": "stream",
     "text": [
      "[3 3 3 3]\n",
      "[5 5 5 5 5]\n",
      "[1 1 2 2 3 3 4 4]\n"
     ]
    }
   ],
   "source": [
    "#Función 65: Repeat\n",
    "#Repeat elements of an array.\n",
    "print(np.repeat(3, 4))\n",
    "print(np.repeat(5,5))\n",
    "x = np.array([[1,2],[3,4]])\n",
    "print(np.repeat(x, 2))\n"
   ]
  },
  {
   "cell_type": "code",
   "execution_count": 310,
   "metadata": {},
   "outputs": [
    {
     "name": "stdout",
     "output_type": "stream",
     "text": [
      "[ 0  1  2  3  4  5  6  7  8  9 10 11 12 13 14 15]\n",
      "[[[ 0  1  2  3]\n",
      "  [ 4  5  6  7]]\n",
      "\n",
      " [[ 8  9 10 11]\n",
      "  [12 13 14 15]]]\n",
      "El procedimiento queda de la siguiente manera: \n",
      "[array([[[ 0,  1],\n",
      "        [ 4,  5]],\n",
      "\n",
      "       [[ 8,  9],\n",
      "        [12, 13]]]), array([[[ 2,  3],\n",
      "        [ 6,  7]],\n",
      "\n",
      "       [[10, 11],\n",
      "        [14, 15]]])]\n"
     ]
    }
   ],
   "source": [
    "#Función 66: dsplit\n",
    "#Split array into multiple sub-arrays along the 3rd axis (depth).\n",
    "a= np.arange(16)\n",
    "print(a)\n",
    "b = np.arange(16).reshape(2,2,4)\n",
    "print(b)\n",
    "print(\"El procedimiento queda de la siguiente manera: \")\n",
    "print(np.dsplit(b, 2))"
   ]
  },
  {
   "cell_type": "code",
   "execution_count": 312,
   "metadata": {},
   "outputs": [
    {
     "name": "stdout",
     "output_type": "stream",
     "text": [
      "[ 0  1  2  3  4  5  6  7  8  9 10 11 12 13 14 15]\n",
      "[[[ 0  1  2  3]\n",
      "  [ 4  5  6  7]]\n",
      "\n",
      " [[ 8  9 10 11]\n",
      "  [12 13 14 15]]]\n",
      "El procedimiento queda de la siguiente manera: \n",
      "[array([[[ 0,  1,  2,  3]],\n",
      "\n",
      "       [[ 8,  9, 10, 11]]]), array([[[ 4,  5,  6,  7]],\n",
      "\n",
      "       [[12, 13, 14, 15]]])]\n"
     ]
    }
   ],
   "source": [
    "#Función 67: hsplit\n",
    "#Split an array into multiple sub-arrays horizontally (column-wise).\n",
    "a= np.arange(16)\n",
    "print(a)\n",
    "b = np.arange(16).reshape(2,2,4)\n",
    "print(b)\n",
    "print(\"El procedimiento queda de la siguiente manera: \")\n",
    "print(np.hsplit(b, 2))"
   ]
  },
  {
   "cell_type": "code",
   "execution_count": 313,
   "metadata": {},
   "outputs": [
    {
     "name": "stdout",
     "output_type": "stream",
     "text": [
      "[ 0  1  2  3  4  5  6  7  8  9 10 11 12 13 14 15]\n",
      "[[[ 0  1  2  3]\n",
      "  [ 4  5  6  7]]\n",
      "\n",
      " [[ 8  9 10 11]\n",
      "  [12 13 14 15]]]\n",
      "El procedimiento queda de la siguiente manera: \n",
      "[array([[[0, 1, 2, 3],\n",
      "        [4, 5, 6, 7]]]), array([[[ 8,  9, 10, 11],\n",
      "        [12, 13, 14, 15]]])]\n"
     ]
    }
   ],
   "source": [
    "#Función 68: vsplit\n",
    "#Split an array into multiple sub-arrays vertically (row-wise).\n",
    "a= np.arange(16)\n",
    "print(a)\n",
    "b = np.arange(16).reshape(2,2,4)\n",
    "print(b)\n",
    "print(\"El procedimiento queda de la siguiente manera: \")\n",
    "print(np.vsplit(b, 2))"
   ]
  },
  {
   "cell_type": "code",
   "execution_count": 314,
   "metadata": {},
   "outputs": [
    {
     "name": "stdout",
     "output_type": "stream",
     "text": [
      "[[1 4]\n",
      " [2 5]\n",
      " [3 6]]\n"
     ]
    }
   ],
   "source": [
    "#Función 69: Column_stack\n",
    "#Stack 1-D arrays as columns into a 2-D array.\n",
    "x = np.array((1,2,3))\n",
    "y = np.array((4,5,6))\n",
    "print(np.column_stack((x,y)))\n"
   ]
  },
  {
   "cell_type": "code",
   "execution_count": 316,
   "metadata": {},
   "outputs": [
    {
     "name": "stdout",
     "output_type": "stream",
     "text": [
      "[[[1 4]\n",
      "  [2 5]\n",
      "  [3 6]\n",
      "  [4 7]]]\n"
     ]
    }
   ],
   "source": [
    "#Función 70: dstack\n",
    "#Stack arrays in sequence depth wise (along third axis).\n",
    "x = np.array((1,2,3,4))\n",
    "y = np.array((4,5,6,7))\n",
    "print(np.dstack((x,y)))"
   ]
  },
  {
   "cell_type": "code",
   "execution_count": 317,
   "metadata": {},
   "outputs": [
    {
     "name": "stdout",
     "output_type": "stream",
     "text": [
      "[1 2 3 4 5 4 5 6 7 8]\n"
     ]
    }
   ],
   "source": [
    "#Función 71: hstack\n",
    "#Stack arrays in sequence horizontally (column wise).\n",
    "x = np.array((1,2,3,4,5))\n",
    "y = np.array((4,5,6,7,8))\n",
    "print(np.hstack((x,y)))"
   ]
  },
  {
   "cell_type": "code",
   "execution_count": 318,
   "metadata": {},
   "outputs": [
    {
     "name": "stdout",
     "output_type": "stream",
     "text": [
      "[[1 2 3 4 5]\n",
      " [4 5 6 7 8]]\n"
     ]
    }
   ],
   "source": [
    "#Función 72: vstack\n",
    "#Stack arrays in sequence vertically (row wise).\n",
    "x = np.array((1,2,3,4,5))\n",
    "y = np.array((4,5,6,7,8))\n",
    "print(np.vstack((x,y)))"
   ]
  },
  {
   "cell_type": "code",
   "execution_count": 330,
   "metadata": {},
   "outputs": [
    {
     "name": "stdout",
     "output_type": "stream",
     "text": [
      "[10 20 30 20 30 40 10]\n",
      "[[1 2 3]\n",
      " [2 3 4]]\n"
     ]
    }
   ],
   "source": [
    "#Función 73: Block\n",
    "#Assemble an nd-array from nested lists of blocks.\n",
    "a = np.array([10, 20, 30])\n",
    "b = np.array([20, 30, 40])\n",
    "print(np.block([a, b, 10]))   \n",
    "\n",
    "x = np.array([1, 2, 3])\n",
    "y = np.array([2, 3, 4])\n",
    "print(np.block([[x], [y]]))         "
   ]
  },
  {
   "cell_type": "markdown",
   "metadata": {},
   "source": [
    "## Tarea, inciso 2\n",
    "***\n",
    "\n",
    "\n",
    "2. Crear un ejemplo de cómo guardar y cargar arreglos de un archivo binario `.npy` y `.npz`:\n",
    "\n",
    "    - [NumPy binary files (NPY, NPZ)](https://numpy.org/devdocs/reference/routines.io.html#numpy-binary-files-npy-npz)\n",
    "    \n",
    "\n",
    "    \n"
   ]
  },
  {
   "cell_type": "code",
   "execution_count": 346,
   "metadata": {},
   "outputs": [
    {
     "data": {
      "text/plain": [
       "array([ 0,  1,  2,  3,  4,  5,  6,  7,  8,  9, 10, 11, 12, 13, 14])"
      ]
     },
     "execution_count": 346,
     "metadata": {},
     "output_type": "execute_result"
    }
   ],
   "source": [
    "#Save de NPY\n",
    "Libreria = TemporaryFile()\n",
    "a = np.arange(15)\n",
    "np.save(Libreria, a)\n",
    "_ = Libreria.seek(0)\n",
    "np.load(Libreria)\n",
    "\n"
   ]
  },
  {
   "cell_type": "code",
   "execution_count": 350,
   "metadata": {},
   "outputs": [
    {
     "name": "stdout",
     "output_type": "stream",
     "text": [
      "[10 20] [ 11 333]\n"
     ]
    }
   ],
   "source": [
    "with open('test.npy', 'wb') as f:\n",
    "    np.save(f, np.array([10, 20]))\n",
    "    np.save(f, np.array([11, 333]))\n",
    "with open('test.npy', 'rb') as f:\n",
    "    a = np.load(f)\n",
    "    b = np.load(f)\n",
    "print(a, b)\n"
   ]
  },
  {
   "cell_type": "code",
   "execution_count": 351,
   "metadata": {
    "scrolled": true
   },
   "outputs": [
    {
     "name": "stdout",
     "output_type": "stream",
     "text": [
      "El archivo 0 es: \n",
      "[0 1 2 3 4 5 6 7]\n",
      "El archivo 1 es: \n",
      "28\n"
     ]
    }
   ],
   "source": [
    "#Ejemplo con NPZ\n",
    "from tempfile import TemporaryFile\n",
    "outfile = TemporaryFile()\n",
    "a = np.arange(8)\n",
    "b = np.sum(a)\n",
    "\n",
    "np.savez(outfile, a, b)\n",
    "_ = outfile.seek(0)#No permite abrir información que sea falsa.\n",
    "npzfile = np.load(outfile)\n",
    "npzfile.files #Guarda el contenido en dos archivos\n",
    "print(\"El archivo 0 es: \")\n",
    "print(npzfile['arr_0'])#Abre el archivo 0, el cual corresponde a \"a\"\n",
    "print(\"El archivo 1 es: \")\n",
    "print(npzfile['arr_1'])#Abre el archivo 1, el cual corresponde a \"b\"\n"
   ]
  },
  {
   "cell_type": "code",
   "execution_count": null,
   "metadata": {},
   "outputs": [],
   "source": []
  },
  {
   "cell_type": "code",
   "execution_count": 373,
   "metadata": {},
   "outputs": [],
   "source": [
    "a = np.random.random((5,5))\n",
    "b = np.arange(1,15,3)\n",
    "\n",
    "np.savez('arreglos.bin', objA = a, objB = b)"
   ]
  },
  {
   "cell_type": "code",
   "execution_count": 374,
   "metadata": {},
   "outputs": [],
   "source": [
    "# Lee un diccionario del archivo npz\n",
    "d = np.load('arreglos.bin.npz')"
   ]
  },
  {
   "cell_type": "code",
   "execution_count": 375,
   "metadata": {},
   "outputs": [
    {
     "data": {
      "text/plain": [
       "array([[0.0812315 , 0.43541098, 0.04344687, 0.094602  , 0.55394225],\n",
       "       [0.55616373, 0.11018304, 0.09320869, 0.46411176, 0.94321404],\n",
       "       [0.38483226, 0.89753601, 0.68778361, 0.0928998 , 0.51664688],\n",
       "       [0.02802739, 0.92494211, 0.74116116, 0.88353496, 0.42758144],\n",
       "       [0.59779086, 0.66082568, 0.6691505 , 0.91410457, 0.96348612]])"
      ]
     },
     "execution_count": 375,
     "metadata": {},
     "output_type": "execute_result"
    }
   ],
   "source": [
    "d['objA']"
   ]
  },
  {
   "cell_type": "code",
   "execution_count": 376,
   "metadata": {},
   "outputs": [
    {
     "data": {
      "text/plain": [
       "array([ 1,  4,  7, 10, 13])"
      ]
     },
     "execution_count": 376,
     "metadata": {},
     "output_type": "execute_result"
    }
   ],
   "source": [
    "d['objB']"
   ]
  },
  {
   "cell_type": "markdown",
   "metadata": {},
   "source": [
    "## Tarea inciso 3\n",
    "***\n",
    "\n",
    "3. Crear un ejemplo de cómo guardar y cargar arreglos de un archivo de texto `.txt`:\n",
    "\n",
    "    - [NumPy Text files](https://numpy.org/devdocs/reference/routines.io.html#text-files)    "
   ]
  },
  {
   "cell_type": "code",
   "execution_count": 377,
   "metadata": {},
   "outputs": [],
   "source": [
    "#Comando para guardar \n",
    "a = np.arange(1,15,3)\n",
    "b = np.random.random((5,5))\n",
    "np.savetxt('test.out', b, delimiter=',')#La coma es la que hace la separación como columna. \n",
    "np.savetxt('testa.out', a)\n"
   ]
  },
  {
   "cell_type": "code",
   "execution_count": 372,
   "metadata": {},
   "outputs": [
    {
     "data": {
      "text/plain": [
       "array([[0.304414  , 0.09324746, 0.30127232, 0.49776218, 0.59563951],\n",
       "       [0.47868127, 0.57336027, 0.83268132, 0.70537174, 0.60293253],\n",
       "       [0.20156857, 0.88283943, 0.02486906, 0.83733593, 0.54879307],\n",
       "       [0.25139638, 0.60912507, 0.36559213, 0.32919736, 0.56474539],\n",
       "       [0.40672344, 0.14882626, 0.91355127, 0.99554564, 0.42725966]])"
      ]
     },
     "execution_count": 372,
     "metadata": {},
     "output_type": "execute_result"
    }
   ],
   "source": [
    "#Comando para abrir\n",
    "np.loadtxt('test.out', delimiter=',') #El delimitador que en este caso es \",\", hace que la coma sea el separador entre\n",
    "#columnas."
   ]
  },
  {
   "cell_type": "code",
   "execution_count": 378,
   "metadata": {},
   "outputs": [
    {
     "data": {
      "text/plain": [
       "array([ 1.,  4.,  7., 10., 13.])"
      ]
     },
     "execution_count": 378,
     "metadata": {},
     "output_type": "execute_result"
    }
   ],
   "source": [
    "np.loadtxt('testa.out')"
   ]
  },
  {
   "cell_type": "markdown",
   "metadata": {},
   "source": [
    "## Tarea inciso 4\n",
    "***\n",
    "4. Crear una función llamada `estimacionMCO` que lea un archivo CSV con 7 columnas, que corresponden a las variables $(x_{1i}, \\ldots, x_{6i})$ y $y_i$. \n",
    "    - La función debe computar matricialmente los parámetros del modelo de regresión lineal: $y = X\\beta$. \n",
    "    - Estos parámetros deben ser devueltos como un arreglo de NumPy. \n",
    "\n",
    "    - Utilice la función de lectura de archivos de NumPy."
   ]
  },
  {
   "cell_type": "code",
   "execution_count": 405,
   "metadata": {},
   "outputs": [],
   "source": [
    "def estimacionMCO(x):\n",
    "    ini= np.loadtxt('regresion.CSV', delimiter=',') #Es importante indicar que dicho archivo de texto puede tener\n",
    "    #una cantidad ilimitada de filas, pero por fuerza debe tener 7 columnas.\n",
    "    print(\"La matriz a analizar es: \")\n",
    "    print(ini)\n",
    "    x=ini[::,:6] #Selecciona las primeras 6 columnas de la matriz que contiene los datos de la regresión\n",
    "    igu=ini[::,6]#Selecciona la última columna de la regresión (igualdades), pero las regresa como fila\n",
    "    y=igu[:,None]#Convierte en columna los valores de \"y\"\n",
    "    xt=x.T #Proporciona la matriz transpuesta de \"x\"\n",
    "    xTx=xt@x #Realiza la operación de matriz transpuesta de \"x\"  por la matriz de \"x\"\n",
    "    betas=np.linalg.inv(xTx)@xt@y #Devuelve los betas de la regresión lineal\n",
    "    resultado_y=x@betas\n",
    "    print(\"Los betas de la regresión son: \")\n",
    "    print(betas)\n",
    "    print(\"La comprobación de y es: \")\n",
    "    print(resultado_y)\n",
    "    "
   ]
  },
  {
   "cell_type": "code",
   "execution_count": 407,
   "metadata": {},
   "outputs": [],
   "source": [
    "#Genera una matriz aleatoria de 7*7 y automaticamente guarda un archivo en formato \"csv\"\n",
    "reg = np.random.randint(20,size=[8,7])   \n",
    "np.savetxt('regresion.CSV', reg, delimiter=',')"
   ]
  },
  {
   "cell_type": "code",
   "execution_count": 417,
   "metadata": {
    "scrolled": true
   },
   "outputs": [
    {
     "name": "stdout",
     "output_type": "stream",
     "text": [
      "La matriz a analizar es: \n",
      "[[16.  0.  4. 18.  9.  1. 15.]\n",
      " [ 9.  1. 16.  2. 11.  5. 15.]\n",
      " [15. 16. 12.  3.  1. 10. 10.]\n",
      " [14.  3.  1.  0.  7.  6. 11.]\n",
      " [11.  2.  1.  6. 10.  4. 10.]\n",
      " [ 9.  7.  6. 19.  0.  4. 16.]\n",
      " [ 8.  6.  3.  2. 17.  9.  1.]\n",
      " [16. 12.  5.  9. 16. 16.  6.]]\n",
      "Los betas de la regresión son: \n",
      "[[ 0.8495043 ]\n",
      " [-0.87500104]\n",
      " [ 0.6350389 ]\n",
      " [ 0.31546237]\n",
      " [-0.45352566]\n",
      " [ 0.39713669]]\n",
      "La comprobación de y es: \n",
      "[[18.12595274]\n",
      " [14.55898596]\n",
      " [10.82724299]\n",
      " [ 9.11123645]\n",
      " [ 7.17564845]\n",
      " [12.91309658]\n",
      " [-0.05363645]\n",
      " [ 8.20418855]]\n"
     ]
    }
   ],
   "source": [
    "estimacionMCO(x) #Ejecuta la función de regresión lineal"
   ]
  },
  {
   "cell_type": "markdown",
   "metadata": {},
   "source": [
    "##### Resumen de operaciones para hacer una regresión lineal"
   ]
  },
  {
   "cell_type": "code",
   "execution_count": 380,
   "metadata": {},
   "outputs": [],
   "source": [
    "#Genera una matriz aleatoria de 7*7 y automaticamente guarda un archivo en formato \"csv\"\n",
    "reg = np.random.randint(20,size=[7,7])   \n",
    "np.savetxt('regresion.CSV', reg, delimiter=',')"
   ]
  },
  {
   "cell_type": "code",
   "execution_count": 408,
   "metadata": {},
   "outputs": [
    {
     "data": {
      "text/plain": [
       "array([[16.,  0.,  4., 18.,  9.,  1., 15.],\n",
       "       [ 9.,  1., 16.,  2., 11.,  5., 15.],\n",
       "       [15., 16., 12.,  3.,  1., 10., 10.],\n",
       "       [14.,  3.,  1.,  0.,  7.,  6., 11.],\n",
       "       [11.,  2.,  1.,  6., 10.,  4., 10.],\n",
       "       [ 9.,  7.,  6., 19.,  0.,  4., 16.],\n",
       "       [ 8.,  6.,  3.,  2., 17.,  9.,  1.],\n",
       "       [16., 12.,  5.,  9., 16., 16.,  6.]])"
      ]
     },
     "execution_count": 408,
     "metadata": {},
     "output_type": "execute_result"
    }
   ],
   "source": [
    "ini= np.loadtxt('regresion.CSV', delimiter=',')\n",
    "ini#Se define a una variable que automáticamente abre un archivo csv con los datos de la matriz aleatoria."
   ]
  },
  {
   "cell_type": "code",
   "execution_count": 409,
   "metadata": {},
   "outputs": [
    {
     "data": {
      "text/plain": [
       "array([[16.,  0.,  4., 18.,  9.,  1.],\n",
       "       [ 9.,  1., 16.,  2., 11.,  5.],\n",
       "       [15., 16., 12.,  3.,  1., 10.],\n",
       "       [14.,  3.,  1.,  0.,  7.,  6.],\n",
       "       [11.,  2.,  1.,  6., 10.,  4.],\n",
       "       [ 9.,  7.,  6., 19.,  0.,  4.],\n",
       "       [ 8.,  6.,  3.,  2., 17.,  9.],\n",
       "       [16., 12.,  5.,  9., 16., 16.]])"
      ]
     },
     "execution_count": 409,
     "metadata": {},
     "output_type": "execute_result"
    }
   ],
   "source": [
    "mat_x=ini[::,:6]#Crea la variable \"matriz x\", la cual contiene las primeras 6 columnas de la regresión\n",
    "#la cual corresponde a las diversas variables \"x\"\n",
    "mat_x"
   ]
  },
  {
   "cell_type": "code",
   "execution_count": 410,
   "metadata": {},
   "outputs": [
    {
     "data": {
      "text/plain": [
       "array([15., 15., 10., 11., 10., 16.,  1.,  6.])"
      ]
     },
     "execution_count": 410,
     "metadata": {},
     "output_type": "execute_result"
    }
   ],
   "source": [
    "mat_y=ini[::,6]#Crea la variable \"matriz y\", la cual contiene la última columna, pero con el defecto de que la regresa\n",
    "#en forma de fila.\n",
    "mat_y"
   ]
  },
  {
   "cell_type": "code",
   "execution_count": 411,
   "metadata": {},
   "outputs": [
    {
     "data": {
      "text/plain": [
       "array([[15.],\n",
       "       [15.],\n",
       "       [10.],\n",
       "       [11.],\n",
       "       [10.],\n",
       "       [16.],\n",
       "       [ 1.],\n",
       "       [ 6.]])"
      ]
     },
     "execution_count": 411,
     "metadata": {},
     "output_type": "execute_result"
    }
   ],
   "source": [
    "mat_y_col=mat_y[:,None] #La variable \"matriz y columna\", como su nombre lo indica hace que \"matriz y\" se\n",
    "#represente en forma de fila\n",
    "mat_y_col"
   ]
  },
  {
   "cell_type": "code",
   "execution_count": 413,
   "metadata": {},
   "outputs": [
    {
     "data": {
      "text/plain": [
       "array([[16.,  9., 15., 14., 11.,  9.,  8., 16.],\n",
       "       [ 0.,  1., 16.,  3.,  2.,  7.,  6., 12.],\n",
       "       [ 4., 16., 12.,  1.,  1.,  6.,  3.,  5.],\n",
       "       [18.,  2.,  3.,  0.,  6., 19.,  2.,  9.],\n",
       "       [ 9., 11.,  1.,  7., 10.,  0., 17., 16.],\n",
       "       [ 1.,  5., 10.,  6.,  4.,  4.,  9., 16.]])"
      ]
     },
     "execution_count": 413,
     "metadata": {},
     "output_type": "execute_result"
    }
   ],
   "source": [
    "mat_x_trans=mat_x.T #Variable que obtiene la matriz transpuesta de x\n",
    "mat_x_trans"
   ]
  },
  {
   "cell_type": "code",
   "execution_count": 414,
   "metadata": {},
   "outputs": [
    {
     "data": {
      "text/plain": [
       "array([[1280.,  616.,  571.,  748.,  858.,  703.],\n",
       "       [ 616.,  499.,  333.,  315.,  362.,  465.],\n",
       "       [ 571.,  333.,  488.,  311.,  372.,  345.],\n",
       "       [ 748.,  315.,  311.,  819.,  425.,  320.],\n",
       "       [ 858.,  362.,  372.,  425.,  897.,  565.],\n",
       "       [ 703.,  465.,  345.,  320.,  565.,  531.]])"
      ]
     },
     "execution_count": 414,
     "metadata": {},
     "output_type": "execute_result"
    }
   ],
   "source": [
    "XTX=mat_x_trans@mat_x #Realiza la operación de matriz transpuesta de x por la matriz x\n",
    "XTX"
   ]
  },
  {
   "cell_type": "code",
   "execution_count": 415,
   "metadata": {},
   "outputs": [
    {
     "data": {
      "text/plain": [
       "array([[ 0.8495043 ],\n",
       "       [-0.87500104],\n",
       "       [ 0.6350389 ],\n",
       "       [ 0.31546237],\n",
       "       [-0.45352566],\n",
       "       [ 0.39713669]])"
      ]
     },
     "execution_count": 415,
     "metadata": {},
     "output_type": "execute_result"
    }
   ],
   "source": [
    "beta=np.linalg.inv(XTX)@mat_x_trans@mat_y_col\n",
    "beta #Realiza la operación de econometría en la cual se obtienen los valores de los betas\n",
    "#Donde los betas son iguales a la multiplicación entre:\n",
    "#(Inversa de transpuesta de x * matriz de x)*(transpuesta de x)*(Columna de la matriz y)"
   ]
  },
  {
   "cell_type": "code",
   "execution_count": 416,
   "metadata": {},
   "outputs": [
    {
     "data": {
      "text/plain": [
       "array([[18.12595274],\n",
       "       [14.55898596],\n",
       "       [10.82724299],\n",
       "       [ 9.11123645],\n",
       "       [ 7.17564845],\n",
       "       [12.91309658],\n",
       "       [-0.05363645],\n",
       "       [ 8.20418855]])"
      ]
     },
     "execution_count": 416,
     "metadata": {},
     "output_type": "execute_result"
    }
   ],
   "source": [
    "Res_y=mat_x@beta\n",
    "Res_y #Genera los valores de y de acuerdo a la regresión realizada"
   ]
  }
 ],
 "metadata": {
  "kernelspec": {
   "display_name": "Python 3",
   "language": "python",
   "name": "python3"
  },
  "language_info": {
   "codemirror_mode": {
    "name": "ipython",
    "version": 3
   },
   "file_extension": ".py",
   "mimetype": "text/x-python",
   "name": "python",
   "nbconvert_exporter": "python",
   "pygments_lexer": "ipython3",
   "version": "3.7.4"
  }
 },
 "nbformat": 4,
 "nbformat_minor": 2
}

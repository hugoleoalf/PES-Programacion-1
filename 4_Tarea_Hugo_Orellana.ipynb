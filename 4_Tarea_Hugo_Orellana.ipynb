{
 "cells": [
  {
   "cell_type": "markdown",
   "metadata": {},
   "source": [
    "#  Tarea 4\n",
    "**Programación I**"
   ]
  },
  {
   "cell_type": "markdown",
   "metadata": {},
   "source": [
    "## Ejercicio 0\n",
    "\n",
    "0. Cree una función que, si el número en una lista es par, imprima una `'p'`, de lo contrario, que imprima un ``'i'``. La impresión debe ser en la misma línea, por ejemplo: si la entrada es ``[2,3,2]``, la salida es ``pip``\n",
    "1. modifique su función para que admita  listas dentro de listas, es decir, si ingresa ``[[2,3], [2,3,2]]``, imprima  \n",
    "``pi``  \n",
    "``pip``"
   ]
  },
  {
   "cell_type": "markdown",
   "metadata": {},
   "source": [
    "# Inciso 0"
   ]
  },
  {
   "cell_type": "code",
   "execution_count": 41,
   "metadata": {},
   "outputs": [],
   "source": [
    "#Opción 1"
   ]
  },
  {
   "cell_type": "code",
   "execution_count": 39,
   "metadata": {},
   "outputs": [],
   "source": [
    "#Permite crear una tupla la cual consiste en los elmentos que integran el rango de la variable \"rango\"\n",
    "#la cual se defiene más adelante.\n",
    "def examinar(aTuple):\n",
    "    letras = (\"\") #sirve para recibir valores formato de texto\n",
    "    for n in aTuple:\n",
    "        if n % 2 == 0:\n",
    "            letras += \"p\" #Evalua si el valor numérico es par\n",
    "        else:\n",
    "            letras += \"i\" #Sino es par, por defecto lo cataloga inpar\n",
    "    print(letras)"
   ]
  },
  {
   "cell_type": "code",
   "execution_count": 40,
   "metadata": {},
   "outputs": [
    {
     "name": "stdout",
     "output_type": "stream",
     "text": [
      "Ingresa un número por favor: 9\n",
      "La lista ingresada es : [1, 2, 3, 4, 5, 6, 7, 8, 9]\n",
      "ipipipipi\n"
     ]
    }
   ],
   "source": [
    "rango = int(input(\"Ingresa un número por favor: \"))\n",
    "lista = list(range(1, rango+1))\n",
    "print(\"La lista ingresada es :\", lista)\n",
    "examinar(lista)"
   ]
  },
  {
   "cell_type": "code",
   "execution_count": null,
   "metadata": {},
   "outputs": [],
   "source": [
    "#Opción 2"
   ]
  },
  {
   "cell_type": "code",
   "execution_count": 169,
   "metadata": {},
   "outputs": [],
   "source": [
    "def examinar2(aTuple):\n",
    "    ingreso = [] #En esta lista caen los números ingresados por el usuario\n",
    "    final = [] #Función en la cual caeran las \"p\" y las \"i\"\n",
    "    x = 0\n",
    "    while x<=(rango - 1):\n",
    "        x = x + 1\n",
    "        llenar = int(input(\"Ingrese el valor %s de la lista: \" % x))\n",
    "        ingreso.append(llenar)\n",
    "    #En este paso a través de un comando \"while\", el usuario va llenando cada valor de la lista\n",
    "    #Es importante indicar que el usuario a través de la variable \"rango\" determina la cantidad de elementos,\n",
    "    #que tendrá la lista.\n",
    "    for n in range(len(ingreso)):\n",
    "        operacion = ingreso[n]%2\n",
    "        if operacion == 0:\n",
    "            final += \"p\"  #Evalua si el valor numérico es par\n",
    "        else:\n",
    "            final += \"i\"  #Sino es par, por defecto lo cataloga inpar\n",
    "    print(\"Resultado : \", \"\".join(final)) #Concatena las impresiones\n"
   ]
  },
  {
   "cell_type": "code",
   "execution_count": 170,
   "metadata": {},
   "outputs": [
    {
     "name": "stdout",
     "output_type": "stream",
     "text": [
      "Ingresa el largo de la lista por favor: 4\n",
      "Ingrese el valor 1 de la lista: 4\n",
      "Ingrese el valor 2 de la lista: 5\n",
      "Ingrese el valor 3 de la lista: 7\n",
      "Ingrese el valor 4 de la lista: 8\n",
      "Resultado :  piip\n"
     ]
    }
   ],
   "source": [
    "rango = int(input(\"Ingresa el largo de la lista por favor: \")) #El usuario ingresa el largo que tendra la lista\n",
    "\n",
    "examinar2(rango)"
   ]
  },
  {
   "cell_type": "markdown",
   "metadata": {},
   "source": [
    "# Inciso 1"
   ]
  },
  {
   "cell_type": "code",
   "execution_count": 90,
   "metadata": {},
   "outputs": [],
   "source": [
    "def examinar0(aTuple):\n",
    "    ingreso = [] #En esta lista caen los números ingresados por el usuario\n",
    "    final = [] #Función en la cual caeran las \"p\" y las \"i\"\n",
    "    x = 0\n",
    "    while x<=(aTuple - 1):\n",
    "        x = x + 1\n",
    "        llenar = int(input(\"Ingrese cualquier número: \"))\n",
    "        ingreso.append(llenar)\n",
    "        \n",
    "    for n in range(len(ingreso)):\n",
    "        operacion = ingreso[n]%2\n",
    "        if operacion == 0:\n",
    "            final += \"p\"\n",
    "        else:\n",
    "            final += \"i\"\n",
    "    return \"\".join(final) #Concatena las impresiones\n"
   ]
  },
  {
   "cell_type": "code",
   "execution_count": 108,
   "metadata": {},
   "outputs": [],
   "source": [
    "def superlista(x):\n",
    "    listado=[] #sirve para recibir listas que contienen valores de texto\n",
    "    cont = 0\n",
    "    while cont <= (long_filas -1):\n",
    "        cont = cont +1\n",
    "        l = int(input(\"Ingrese el largo que tendra la lista %s de elementos: \" % cont))\n",
    "        listado.append(examinar0(l))\n",
    "    print(listado)   "
   ]
  },
  {
   "cell_type": "code",
   "execution_count": 143,
   "metadata": {},
   "outputs": [
    {
     "name": "stdout",
     "output_type": "stream",
     "text": [
      "Ingrese el largo que tendrá la fila: 3\n",
      "Ingrese el largo que tendra la lista 1 de elementos: 2\n",
      "Ingrese cualquier número: 1\n",
      "Ingrese cualquier número: 2\n",
      "Ingrese el largo que tendra la lista 2 de elementos: 3\n",
      "Ingrese cualquier número: 2\n",
      "Ingrese cualquier número: 6\n",
      "Ingrese cualquier número: 7\n",
      "Ingrese el largo que tendra la lista 3 de elementos: 1\n",
      "Ingrese cualquier número: 5\n",
      "['ip', 'ppi', 'i']\n"
     ]
    }
   ],
   "source": [
    "long_filas = int(input(\"Ingrese el largo que tendrá la fila: \"))\n",
    "\n",
    "superlista(long_filas)"
   ]
  },
  {
   "cell_type": "markdown",
   "metadata": {},
   "source": [
    "## Ejercicio 1\n",
    "\n",
    "0. Dada un punto y un vector en $R^3$, escriba una función que devuelva los parámetros $a,b,c,d$ (en forma de tupla) de la forma escalar del plano $$ax+by+cz=d$$ \n",
    "1. Cree función que reciba la salida anterior y nos permita evaluar un punto $(x,y)$ para obtener $z$, dada la ecuación del plano."
   ]
  },
  {
   "cell_type": "markdown",
   "metadata": {},
   "source": [
    "### Inciso 0"
   ]
  },
  {
   "cell_type": "code",
   "execution_count": 29,
   "metadata": {},
   "outputs": [],
   "source": [
    "def para(a,b,c,x,y,z):#La función realiza la operación descrita en el enunciado del ejercicio, con las variables\n",
    "                      #ingresadas en el siguiente recuadro.\n",
    "    d= a*x + b*y + c*z\n",
    "    punto.append(d)\n",
    "    punto2=tuple(punto)\n",
    "    return punto2 #Devuelve una nueva tupla, con el valor agregado de \"d\"\n",
    "    "
   ]
  },
  {
   "cell_type": "code",
   "execution_count": 63,
   "metadata": {},
   "outputs": [
    {
     "name": "stdout",
     "output_type": "stream",
     "text": [
      "Ingrese un valor para a por favor: 2\n",
      "Ingrese un valor para b por favor: 5\n",
      "Ingrese un valor para c por favor: 9\n",
      "Los puntos seleccionados son:  [2, 5, 9]\n",
      "Ingrese un valor para x por favor: 1\n",
      "Ingrese un valor para y por favor: 3\n",
      "Ingrese un valor para z por favor: 7\n",
      "El vector seleccionado es:  [1, 3, 7]\n",
      "(2, 5, 9, 80)\n"
     ]
    }
   ],
   "source": [
    "a = int(input(\"Ingrese un valor para a por favor: \"))\n",
    "b = int(input(\"Ingrese un valor para b por favor: \"))\n",
    "c = int(input(\"Ingrese un valor para c por favor: \"))\n",
    "punto = [a, b, c]\n",
    "print(\"Los puntos seleccionados son: \", punto)\n",
    "\n",
    "x = int(input(\"Ingrese un valor para x por favor: \"))\n",
    "y = int(input(\"Ingrese un valor para y por favor: \"))\n",
    "z = int(input(\"Ingrese un valor para z por favor: \"))\n",
    "vector = [x, y, z]\n",
    "print(\"El vector seleccionado es: \", vector)\n",
    "\n",
    "resultado = para(a,b,c,x,y,z)[:]\n",
    "print(resultado)\n"
   ]
  },
  {
   "cell_type": "markdown",
   "metadata": {},
   "source": [
    "### Inciso 1"
   ]
  },
  {
   "cell_type": "code",
   "execution_count": 66,
   "metadata": {},
   "outputs": [
    {
     "name": "stdout",
     "output_type": "stream",
     "text": [
      "Ingrese un nuevo valor para x: 10\n",
      "Ingrese un nuevo valor para y: 5\n",
      "El valor de z es:  3.888888888888889\n"
     ]
    }
   ],
   "source": [
    "x1= int(input(\"Ingrese un nuevo valor para x: \"))\n",
    "y1= int(input(\"Ingrese un nuevo valor para y: \"))\n",
    "d=resultado[-1]\n",
    "vector_nuevo=[x1,y1]\n",
    "def para2(a,b,c,d,x1,y1):\n",
    "    #La función recalcula el valor de z, considerando el valor de \"d\" obtenido previamente,\n",
    "    #así como nuevos valores para x e y\n",
    "    zn = (d - (a*x1) - (b*y1))/c\n",
    "    vector_nuevo.append(zn)\n",
    "    vector_final = tuple(vector_nuevo)\n",
    "    return vector_final\n",
    "    \n",
    "vf= para2(a,b,c,d,x1,y1)\n",
    "print(\"El valor de z es: \", vf[-1])"
   ]
  },
  {
   "cell_type": "markdown",
   "metadata": {},
   "source": [
    "## Ejercicio 2\n",
    "\n",
    "Completar el siguiente código de la función de `biseccion` para que resuelva para un cero de la función $f(x)$ especificada en el argumento `f`. Utilice una función `lambda` para entregar el polinomio a la función `biseccion`."
   ]
  },
  {
   "cell_type": "code",
   "execution_count": 139,
   "metadata": {},
   "outputs": [],
   "source": [
    "def biseccion(f, a=-100, b=100, epsilon=0.001, max_iter=100):\n",
    "\n",
    "    guess = (a + b) / 2\n",
    "\n",
    "    # Contador de iteraciones\n",
    "    num_guesses = 0\n",
    "\n",
    "    while abs(f(guess)) >= epsilon and num_guesses < max_iter:\n",
    "        if f(a)*f(guess) > 0:\n",
    "            a = guess\n",
    "            # Si f(a) y f(guess) tienen el mismo signo, se debe\n",
    "            # acortar el intervalo por la izquierda\n",
    "            # Tu código acá:\n",
    "            \n",
    "        else:\n",
    "            b= guess\n",
    "            # De lo contrario, se acorta por el lado derecho\n",
    "            # Tu código acá:\n",
    "\n",
    "        # Siguiente guess en el punto medio del espacio de búsqueda\n",
    "        guess = (a + b) / 2\n",
    "        num_guesses += 1\n",
    "\n",
    "    print('Iteraciones: ', num_guesses)\n",
    "    print('Solución encontrada: f(%0.4f) = %0.4f' % (guess, f(guess)))\n",
    "    return guess"
   ]
  },
  {
   "cell_type": "code",
   "execution_count": 140,
   "metadata": {},
   "outputs": [
    {
     "name": "stdout",
     "output_type": "stream",
     "text": [
      "Iteraciones:  10\n",
      "Solución encontrada: f(0.9990) = 0.0010\n"
     ]
    },
    {
     "data": {
      "text/plain": [
       "0.9990234375"
      ]
     },
     "execution_count": 140,
     "metadata": {},
     "output_type": "execute_result"
    }
   ],
   "source": [
    "f = lambda x : 1-x\n",
    "\n",
    "biseccion(f, a=-10, b=4)"
   ]
  },
  {
   "attachments": {
    "6.PNG": {
     "image/png": "[encoded data removed]"
    }
   },
   "cell_type": "markdown",
   "metadata": {},
   "source": [
    "![6.PNG](attachment:6.PNG)"
   ]
  },
  {
   "cell_type": "markdown",
   "metadata": {},
   "source": [
    "### El número de oro\n",
    "\n",
    "Utilizando nuestra función de `biseccion`, encontremos una aproximación a la proporción divina $$\\phi=\\frac{1+\\sqrt{5}}{2}$$ resultado del cero del polinomio $f(x)=x^2-x-1$ en el intervalo $[1,2]$."
   ]
  },
  {
   "attachments": {
    "7.PNG": {
     "image/png": "[encoded data removed]"
    }
   },
   "cell_type": "markdown",
   "metadata": {},
   "source": [
    "![7.PNG](attachment:7.PNG)"
   ]
  },
  {
   "cell_type": "code",
   "execution_count": 142,
   "metadata": {},
   "outputs": [
    {
     "name": "stdout",
     "output_type": "stream",
     "text": [
      "Iteraciones:  16\n",
      "Solución encontrada: f(1.6180) = 0.0000\n",
      "1.6180343627929688\n"
     ]
    }
   ],
   "source": [
    "f = lambda x: x**2 - x - 1\n",
    "approx_phi = biseccion(f, a=1, b=2, epsilon=1e-6)\n",
    "print(approx_phi)"
   ]
  },
  {
   "cell_type": "markdown",
   "metadata": {},
   "source": [
    "# Ejercicios clase 4"
   ]
  },
  {
   "cell_type": "markdown",
   "metadata": {},
   "source": [
    "## Ejercicio 0\n",
    "\n",
    "0. Escriba una función que cree una tupla rellena de ceros y que la longitud sea un argumento de la función. \n",
    "1. Modifique la función anterior para que el elemento con el que se rellenará la tupla, sea parte del argumento. \n",
    "2. Modifique la función para que se pueda elegir si crear una tupla o una lista. "
   ]
  },
  {
   "cell_type": "markdown",
   "metadata": {},
   "source": [
    "# Inciso 0"
   ]
  },
  {
   "cell_type": "code",
   "execution_count": null,
   "metadata": {},
   "outputs": [],
   "source": [
    "#Opción 1"
   ]
  },
  {
   "cell_type": "code",
   "execution_count": 45,
   "metadata": {},
   "outputs": [],
   "source": [
    "def crear(aTuple):\n",
    "    largo = (\"\") #Crea una fila con valores de de acuerdo al rango del valor fila, el cual se describe en el recuadro siguiente\n",
    "    for n in aTuple:\n",
    "        if n % 2 == 0:\n",
    "            largo += \"0\"\n",
    "        else:\n",
    "            largo += \"0\"\n",
    "    print(list(largo))"
   ]
  },
  {
   "cell_type": "code",
   "execution_count": 46,
   "metadata": {},
   "outputs": [
    {
     "name": "stdout",
     "output_type": "stream",
     "text": [
      "Ingresa un número por favor: 2\n",
      "La lista ingresada es : [1, 2]\n",
      "['0', '0']\n"
     ]
    }
   ],
   "source": [
    "fila = int(input(\"Ingresa un número por favor: \"))\n",
    "lista_fila = list(range(1, fila+1))\n",
    "print(\"La lista ingresada es :\", lista_fila)\n",
    "crear(lista_fila)\n"
   ]
  },
  {
   "cell_type": "code",
   "execution_count": null,
   "metadata": {},
   "outputs": [],
   "source": [
    "#Opción 2"
   ]
  },
  {
   "cell_type": "code",
   "execution_count": 34,
   "metadata": {},
   "outputs": [],
   "source": [
    "def crear_fila(aTuple):\n",
    "    fil = (0,)*valor\n",
    "    \n",
    "    return fil"
   ]
  },
  {
   "cell_type": "code",
   "execution_count": 49,
   "metadata": {},
   "outputs": [
    {
     "name": "stdout",
     "output_type": "stream",
     "text": [
      "ingrese el número de 0 que desea tener en su tupla: 10\n"
     ]
    },
    {
     "data": {
      "text/plain": [
       "(0, 0, 0, 0, 0, 0, 0, 0, 0, 0)"
      ]
     },
     "execution_count": 49,
     "metadata": {},
     "output_type": "execute_result"
    }
   ],
   "source": [
    "valor = int(input(\"ingrese el número de 0 que desea tener en su tupla: \"))\n",
    "\n",
    "crear_fila(valor)"
   ]
  },
  {
   "cell_type": "markdown",
   "metadata": {},
   "source": [
    "# Inciso 1"
   ]
  },
  {
   "cell_type": "code",
   "execution_count": 54,
   "metadata": {},
   "outputs": [],
   "source": [
    "def crear_fila2(aTuple):\n",
    "    valor_2 = int(input(\"Ingrese el número con el cual desea llenar su tupla\"))\n",
    "    fil2 = (valor_2,)*valor\n",
    "    \n",
    "    return fil2"
   ]
  },
  {
   "cell_type": "code",
   "execution_count": 55,
   "metadata": {},
   "outputs": [
    {
     "name": "stdout",
     "output_type": "stream",
     "text": [
      "ingrese el largo de la tupla por favor: 10\n",
      "Ingrese el número con el cual desea llenar su tupla4\n"
     ]
    },
    {
     "data": {
      "text/plain": [
       "(4, 4, 4, 4, 4, 4, 4, 4, 4, 4)"
      ]
     },
     "execution_count": 55,
     "metadata": {},
     "output_type": "execute_result"
    }
   ],
   "source": [
    "valor = int(input(\"ingrese el largo de la tupla por favor: \"))\n",
    "\n",
    "\n",
    "crear_fila2(valor)"
   ]
  },
  {
   "cell_type": "markdown",
   "metadata": {},
   "source": [
    "# Inciso 2"
   ]
  },
  {
   "cell_type": "code",
   "execution_count": 1,
   "metadata": {},
   "outputs": [],
   "source": [
    "def crear_fila4(aTuple):\n",
    "    valor_2 = int(input(\"Ingrese el número con el cual desea llenar su tupla\"))\n",
    "    fil3 = (valor_2,)*valor\n",
    "    pregunta = input(\"Seleccionar entre: Tupla o Lista: \")\n",
    "    return fil3"
   ]
  },
  {
   "cell_type": "code",
   "execution_count": 17,
   "metadata": {},
   "outputs": [],
   "source": [
    "def crear_fila3(aTuple):\n",
    "    valor_2 = int(input(\"Ingrese el número con el cual desea llenar su fila\"))\n",
    "    fil3 = (valor_2,)*valor\n",
    "    pregunta = input(\"Seleccionar entre: Tupla o Lista: \")\n",
    "    while True:\n",
    "        if pregunta.lower() == \"tupla\":\n",
    "            return fil3\n",
    "        elif pregunta.lower() == \"lista\":\n",
    "            return list(fil3)\n",
    "        else:\n",
    "            pregunta = input(\"Seleccionar entre: Tupla o Lista: \")\n",
    "    "
   ]
  },
  {
   "cell_type": "code",
   "execution_count": 18,
   "metadata": {},
   "outputs": [
    {
     "name": "stdout",
     "output_type": "stream",
     "text": [
      "ingrese el largo de la fila por favor: 5\n",
      "Ingrese el número con el cual desea llenar su fila4\n",
      "Seleccionar entre: Tupla o Lista: carro\n",
      "Seleccionar entre: Tupla o Lista: carro\n",
      "Seleccionar entre: Tupla o Lista: carro\n",
      "Seleccionar entre: Tupla o Lista: lista\n"
     ]
    },
    {
     "data": {
      "text/plain": [
       "[4, 4, 4, 4, 4]"
      ]
     },
     "execution_count": 18,
     "metadata": {},
     "output_type": "execute_result"
    }
   ],
   "source": [
    "valor = int(input(\"ingrese el largo de la fila por favor: \"))\n",
    "\n",
    "\n",
    "crear_fila3(valor)"
   ]
  },
  {
   "cell_type": "markdown",
   "metadata": {},
   "source": [
    "## Ejercicio 1\n",
    "\n",
    "Escriba una función que cree una lista de longitud $J$, en donde sus elementos sean listas de longitud $I$ rellenas con el mismo elemento. Utilice la función creada en el *Ejercicio 0* . "
   ]
  },
  {
   "cell_type": "code",
   "execution_count": 36,
   "metadata": {},
   "outputs": [],
   "source": [
    "def granlista(x):\n",
    "    l = int(input(\"Ingrese el largo que tendra la lista de elemento: \"))\n",
    "    elemento = int(input(\"¿Qué elemento desea ingresar?: \"))\n",
    "    x = (elemento,)*l\n",
    "    y = (x,)*long_filas\n",
    "    \n",
    "    return y"
   ]
  },
  {
   "cell_type": "code",
   "execution_count": 37,
   "metadata": {},
   "outputs": [
    {
     "name": "stdout",
     "output_type": "stream",
     "text": [
      "Ingrese el largo que tendrá la fila: 5\n",
      "Ingrese el largo que tendra la lista de elemento: 3\n",
      "¿Qué elemento desea ingresar?: 2\n"
     ]
    },
    {
     "data": {
      "text/plain": [
       "((2, 2, 2), (2, 2, 2), (2, 2, 2), (2, 2, 2), (2, 2, 2))"
      ]
     },
     "execution_count": 37,
     "metadata": {},
     "output_type": "execute_result"
    }
   ],
   "source": [
    "long_filas = int(input(\"Ingrese el largo que tendrá la fila: \"))\n",
    "\n",
    "granlista(long_filas)"
   ]
  },
  {
   "cell_type": "markdown",
   "metadata": {},
   "source": [
    "## Ejercicio 2\n",
    "\n",
    "Sean las funciones: \n",
    "$$f(x,y) = 2x + 3y +5$$ \n",
    "y \n",
    "$$g(h) = h^2$$ \n",
    "\n",
    "0. Definas las funciones $f(x,y)$ y $g(h)$ (como funciones anónimas).\n",
    "1. Cree una función llamada *composición*, que reciba como argumentos las funciones anteriores y los argumentos necesarios para que regrese $g(f(x,y))$.\n",
    "2. Cree una *tupla* que contenga 10 números para $x$, y una *lista* que contenga 10 números para $y$.\n",
    "3. Por medio de loops (utilice tanto *while* como *for*), evalúe el producto cartesiano entre $x$ y $y$ en la función compuesta creada en el numeral 1. Imprima los números evaluados y su respectivo resultado. \n"
   ]
  },
  {
   "cell_type": "markdown",
   "metadata": {},
   "source": [
    "### Inciso 0"
   ]
  },
  {
   "cell_type": "code",
   "execution_count": 6,
   "metadata": {},
   "outputs": [],
   "source": [
    "f = lambda x,y: 2*x + 3*y + 5\n",
    "g = lambda h: h**2"
   ]
  },
  {
   "cell_type": "markdown",
   "metadata": {},
   "source": [
    "### Inciso 1"
   ]
  },
  {
   "cell_type": "code",
   "execution_count": 7,
   "metadata": {},
   "outputs": [],
   "source": [
    "composición = lambda g,f,x,y : g(f(x,y))\n"
   ]
  },
  {
   "cell_type": "markdown",
   "metadata": {},
   "source": [
    "### Inciso 2"
   ]
  },
  {
   "cell_type": "code",
   "execution_count": 2,
   "metadata": {},
   "outputs": [],
   "source": [
    "def creartupla(z): #Permite crear una tupla con el número de elementos que el usuario desee para \"x\"\n",
    "    ingreso = []\n",
    "    cont1 = 0\n",
    "    while cont1 <= (z -1):\n",
    "        cont1 = cont1 + 1\n",
    "        llenarx = int(input(\"Ingrese el valor %s para x por favor: \" % cont1))\n",
    "        ingreso.append(llenarx)\n",
    "        #datos_x=tuple(ingreso)\n",
    "    return ingreso #datos_x\n",
    " \n",
    "def crearlista(z): #Crea una lista para y, con el número de elementos que seleccionó el usuario para la tupla de x\n",
    "    ingresoy = []\n",
    "    cont2 = 0\n",
    "    while cont2 <= (z -1):\n",
    "        cont2 = cont2 + 1\n",
    "        llenary = int(input(\"Ingrese el valor %s para y por favor: \" % cont2))\n",
    "        ingresoy.append(llenary)\n",
    "        \n",
    "    return list(ingresoy)"
   ]
  },
  {
   "cell_type": "code",
   "execution_count": 3,
   "metadata": {},
   "outputs": [
    {
     "name": "stdout",
     "output_type": "stream",
     "text": [
      "Ingresa el largo de la tupla x por favor: 5\n",
      "Ingrese el valor 1 para x por favor: 1\n",
      "Ingrese el valor 2 para x por favor: 2\n",
      "Ingrese el valor 3 para x por favor: 3\n",
      "Ingrese el valor 4 para x por favor: 4\n",
      "Ingrese el valor 5 para x por favor: 5\n"
     ]
    },
    {
     "data": {
      "text/plain": [
       "[1, 2, 3, 4, 5]"
      ]
     },
     "execution_count": 3,
     "metadata": {},
     "output_type": "execute_result"
    }
   ],
   "source": [
    "valores_x = int(input(\"Ingresa el largo de la tupla x por favor: \"))\n",
    "\n",
    "\n",
    "x=creartupla(valores_x)\n",
    "x\n",
    "#\"x\" contiene la tupla creada por el usuario\n"
   ]
  },
  {
   "cell_type": "code",
   "execution_count": 4,
   "metadata": {},
   "outputs": [
    {
     "name": "stdout",
     "output_type": "stream",
     "text": [
      "Ingrese el valor 1 para y por favor: 3\n",
      "Ingrese el valor 2 para y por favor: 2\n",
      "Ingrese el valor 3 para y por favor: 5\n",
      "Ingrese el valor 4 para y por favor: 4\n",
      "Ingrese el valor 5 para y por favor: 8\n"
     ]
    },
    {
     "data": {
      "text/plain": [
       "[3, 2, 5, 4, 8]"
      ]
     },
     "execution_count": 4,
     "metadata": {},
     "output_type": "execute_result"
    }
   ],
   "source": [
    "valores_y = valores_x\n",
    "#Se fuerza a que la tupla que corresponda a y, tenga la misma cantidad de elementos que la tupla x\n",
    "\n",
    "y=crearlista(valores_y)\n",
    "y\n",
    "#\"y\" contiene la tupla creada por el usuario"
   ]
  },
  {
   "cell_type": "markdown",
   "metadata": {},
   "source": [
    "### Inciso 3"
   ]
  },
  {
   "cell_type": "code",
   "execution_count": 8,
   "metadata": {},
   "outputs": [
    {
     "name": "stdout",
     "output_type": "stream",
     "text": [
      "[1, 3] g(f(x,y)) = 256\n",
      "[1, 2] g(f(x,y)) = 169\n",
      "[1, 5] g(f(x,y)) = 484\n",
      "[1, 4] g(f(x,y)) = 361\n",
      "[1, 8] g(f(x,y)) = 961\n",
      "[2, 3] g(f(x,y)) = 324\n",
      "[2, 2] g(f(x,y)) = 225\n",
      "[2, 5] g(f(x,y)) = 576\n",
      "[2, 4] g(f(x,y)) = 441\n",
      "[2, 8] g(f(x,y)) = 1089\n",
      "[3, 3] g(f(x,y)) = 400\n",
      "[3, 2] g(f(x,y)) = 289\n",
      "[3, 5] g(f(x,y)) = 676\n",
      "[3, 4] g(f(x,y)) = 529\n",
      "[3, 8] g(f(x,y)) = 1225\n",
      "[4, 3] g(f(x,y)) = 484\n",
      "[4, 2] g(f(x,y)) = 361\n",
      "[4, 5] g(f(x,y)) = 784\n",
      "[4, 4] g(f(x,y)) = 625\n",
      "[4, 8] g(f(x,y)) = 1369\n",
      "[5, 3] g(f(x,y)) = 576\n",
      "[5, 2] g(f(x,y)) = 441\n",
      "[5, 5] g(f(x,y)) = 900\n",
      "[5, 4] g(f(x,y)) = 729\n",
      "[5, 8] g(f(x,y)) = 1521\n"
     ]
    },
    {
     "ename": "NameError",
     "evalue": "name 'prod_cartesiano' is not defined",
     "output_type": "error",
     "traceback": [
      "\u001b[1;31m---------------------------------------------------------------------------\u001b[0m",
      "\u001b[1;31mNameError\u001b[0m                                 Traceback (most recent call last)",
      "\u001b[1;32m<ipython-input-8-57c0284885d7>\u001b[0m in \u001b[0;36m<module>\u001b[1;34m\u001b[0m\n\u001b[0;32m     15\u001b[0m         \u001b[0mparejas\u001b[0m\u001b[1;33m.\u001b[0m\u001b[0mclear\u001b[0m\u001b[1;33m(\u001b[0m\u001b[1;33m)\u001b[0m\u001b[1;33m\u001b[0m\u001b[1;33m\u001b[0m\u001b[0m\n\u001b[0;32m     16\u001b[0m \u001b[1;33m\u001b[0m\u001b[0m\n\u001b[1;32m---> 17\u001b[1;33m \u001b[0mprint\u001b[0m\u001b[1;33m(\u001b[0m\u001b[1;34m\"El producto cartesiano entre los valores de x e y es: \"\u001b[0m\u001b[1;33m,\u001b[0m \u001b[0mprod_cartesiano\u001b[0m\u001b[1;33m)\u001b[0m\u001b[1;33m\u001b[0m\u001b[1;33m\u001b[0m\u001b[0m\n\u001b[0m\u001b[0;32m     18\u001b[0m \u001b[0mprint\u001b[0m\u001b[1;33m(\u001b[0m\u001b[1;34m\"Se hicieron un total de %s operaciones\"\u001b[0m \u001b[1;33m%\u001b[0m \u001b[0mcontador\u001b[0m\u001b[1;33m)\u001b[0m\u001b[1;33m\u001b[0m\u001b[1;33m\u001b[0m\u001b[0m\n\u001b[0;32m     19\u001b[0m \u001b[1;33m\u001b[0m\u001b[0m\n",
      "\u001b[1;31mNameError\u001b[0m: name 'prod_cartesiano' is not defined"
     ]
    }
   ],
   "source": [
    "contador = 0\n",
    "parejas = [] # sirve para guardar temporalmente las parejas, se elimina cuando cambia un valor de x o y\n",
    "cartesiano = [] # sirve para almacenar las parejas que conforman el producto cartesiano\n",
    "\n",
    "# toma un elemento de x y lo multiplica por cada elemento de y, repite con cada elemento de x.\n",
    "for i in range(valores_x):\n",
    "    X = x[i]\n",
    "    for n in range(valores_x):\n",
    "        Y = y[n]\n",
    "        contador += 1\n",
    "        parejas.append(X)\n",
    "        parejas.append(Y)\n",
    "        cartesiano.append(parejas[:])\n",
    "        print(parejas,\"g(f(x,y)) =\",composición(g,f,X,Y))\n",
    "        parejas.clear()\n",
    "\n",
    "print(\"El producto cartesiano entre los valores de x e y es: \", prod_cartesiano)\n",
    "print(\"Se hicieron un total de %s operaciones\" % contador)\n",
    "\n",
    "        "
   ]
  }
 ],
 "metadata": {
  "kernelspec": {
   "display_name": "Python 3",
   "language": "python",
   "name": "python3"
  },
  "language_info": {
   "codemirror_mode": {
    "name": "ipython",
    "version": 3
   },
   "file_extension": ".py",
   "mimetype": "text/x-python",
   "name": "python",
   "nbconvert_exporter": "python",
   "pygments_lexer": "ipython3",
   "version": "3.7.4"
  }
 },
 "nbformat": 4,
 "nbformat_minor": 2
}

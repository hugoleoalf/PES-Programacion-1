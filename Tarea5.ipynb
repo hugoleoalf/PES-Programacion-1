{
 "cells": [
  {
   "cell_type": "markdown",
   "metadata": {},
   "source": [
    "# Tarea #6\n",
    "**Programacion I**"
   ]
  },
  {
   "cell_type": "markdown",
   "metadata": {},
   "source": [
    "## Ejercicio 1\n",
    "\n",
    "Ejecute el siguiente programa y explique su procedimiento y el porqué del resultado. "
   ]
  },
  {
   "cell_type": "code",
   "execution_count": 1,
   "metadata": {
    "scrolled": true
   },
   "outputs": [
    {
     "ename": "RecursionError",
     "evalue": "maximum recursion depth exceeded",
     "output_type": "error",
     "traceback": [
      "\u001b[1;31m---------------------------------------------------------------------------\u001b[0m",
      "\u001b[1;31mRecursionError\u001b[0m                            Traceback (most recent call last)",
      "\u001b[1;32m<ipython-input-1-00d266b39dc6>\u001b[0m in \u001b[0;36m<module>\u001b[1;34m\u001b[0m\n\u001b[0;32m      2\u001b[0m     \u001b[0mf\u001b[0m\u001b[1;33m(\u001b[0m\u001b[0mf\u001b[0m\u001b[1;33m)\u001b[0m\u001b[1;33m\u001b[0m\u001b[1;33m\u001b[0m\u001b[0m\n\u001b[0;32m      3\u001b[0m \u001b[1;33m\u001b[0m\u001b[0m\n\u001b[1;32m----> 4\u001b[1;33m \u001b[0mRecusion\u001b[0m\u001b[1;33m(\u001b[0m\u001b[0mRecusion\u001b[0m\u001b[1;33m)\u001b[0m\u001b[1;33m\u001b[0m\u001b[1;33m\u001b[0m\u001b[0m\n\u001b[0m",
      "\u001b[1;32m<ipython-input-1-00d266b39dc6>\u001b[0m in \u001b[0;36mRecusion\u001b[1;34m(f)\u001b[0m\n\u001b[0;32m      1\u001b[0m \u001b[1;32mdef\u001b[0m \u001b[0mRecusion\u001b[0m\u001b[1;33m(\u001b[0m\u001b[0mf\u001b[0m\u001b[1;33m)\u001b[0m\u001b[1;33m:\u001b[0m\u001b[1;33m\u001b[0m\u001b[1;33m\u001b[0m\u001b[0m\n\u001b[1;32m----> 2\u001b[1;33m     \u001b[0mf\u001b[0m\u001b[1;33m(\u001b[0m\u001b[0mf\u001b[0m\u001b[1;33m)\u001b[0m\u001b[1;33m\u001b[0m\u001b[1;33m\u001b[0m\u001b[0m\n\u001b[0m\u001b[0;32m      3\u001b[0m \u001b[1;33m\u001b[0m\u001b[0m\n\u001b[0;32m      4\u001b[0m \u001b[0mRecusion\u001b[0m\u001b[1;33m(\u001b[0m\u001b[0mRecusion\u001b[0m\u001b[1;33m)\u001b[0m\u001b[1;33m\u001b[0m\u001b[1;33m\u001b[0m\u001b[0m\n",
      "... last 1 frames repeated, from the frame below ...\n",
      "\u001b[1;32m<ipython-input-1-00d266b39dc6>\u001b[0m in \u001b[0;36mRecusion\u001b[1;34m(f)\u001b[0m\n\u001b[0;32m      1\u001b[0m \u001b[1;32mdef\u001b[0m \u001b[0mRecusion\u001b[0m\u001b[1;33m(\u001b[0m\u001b[0mf\u001b[0m\u001b[1;33m)\u001b[0m\u001b[1;33m:\u001b[0m\u001b[1;33m\u001b[0m\u001b[1;33m\u001b[0m\u001b[0m\n\u001b[1;32m----> 2\u001b[1;33m     \u001b[0mf\u001b[0m\u001b[1;33m(\u001b[0m\u001b[0mf\u001b[0m\u001b[1;33m)\u001b[0m\u001b[1;33m\u001b[0m\u001b[1;33m\u001b[0m\u001b[0m\n\u001b[0m\u001b[0;32m      3\u001b[0m \u001b[1;33m\u001b[0m\u001b[0m\n\u001b[0;32m      4\u001b[0m \u001b[0mRecusion\u001b[0m\u001b[1;33m(\u001b[0m\u001b[0mRecusion\u001b[0m\u001b[1;33m)\u001b[0m\u001b[1;33m\u001b[0m\u001b[1;33m\u001b[0m\u001b[0m\n",
      "\u001b[1;31mRecursionError\u001b[0m: maximum recursion depth exceeded"
     ]
    }
   ],
   "source": [
    "def Recusion(f):\n",
    "    f(f)\n",
    "    \n",
    "Recusion(Recusion)"
   ]
  },
  {
   "cell_type": "markdown",
   "metadata": {},
   "source": [
    "*El procedimiento consiste en ejecutar una función dentro de otra, pero al utilizar el comando \"Recusion(Recusion)\", el proceso se repite de manera infinita, lo que provoca un error en el sistema el cual indica que se excedió del máximo de iteraciones, el cual en clase (si no recuerdo mal) era de 10,000 veces*"
   ]
  },
  {
   "cell_type": "markdown",
   "metadata": {},
   "source": [
    "## Ejercicio 2\n",
    "\n",
    "Vea el siguiente vídeo: <https://www.youtube.com/watch?v=qxRW5pDT2o4>  \n",
    "\n",
    "Complete el código siguiente para encontrar el máximo común divisor dado dos números enteros. \n",
    "\n",
    "Las condiciones básicas, son:"
   ]
  },
  {
   "cell_type": "markdown",
   "metadata": {},
   "source": [
    "Para dos números $a$ y $b$, tal que $b\\leq a$:\n",
    "* $mcd(a,0) = a$\n",
    "* Si $b\\vert a$ (divida enteramente), entonces $mcd(a,b)=b$\n",
    "* En otro caso, $mcd(a,b) = mcd(b,a \\,mod \\, b)$\n",
    "\n"
   ]
  },
  {
   "cell_type": "code",
   "execution_count": 146,
   "metadata": {},
   "outputs": [],
   "source": [
    "def mcd(a,b):\n",
    "    '''Donde a >= b'''\n",
    "    if a % b == 0:#Encuentre la condición:\n",
    "        return b\n",
    "    elif b==0:\n",
    "        return a\n",
    "    else:\n",
    "        return mcd(b,a%b)\n",
    "    "
   ]
  },
  {
   "cell_type": "code",
   "execution_count": 147,
   "metadata": {},
   "outputs": [
    {
     "data": {
      "text/plain": [
       "1"
      ]
     },
     "execution_count": 147,
     "metadata": {},
     "output_type": "execute_result"
    }
   ],
   "source": [
    "mcd(45,8)"
   ]
  },
  {
   "cell_type": "code",
   "execution_count": 148,
   "metadata": {},
   "outputs": [
    {
     "data": {
      "text/plain": [
       "3"
      ]
     },
     "execution_count": 148,
     "metadata": {},
     "output_type": "execute_result"
    }
   ],
   "source": [
    "mcd(24,21)"
   ]
  },
  {
   "cell_type": "code",
   "execution_count": 149,
   "metadata": {},
   "outputs": [
    {
     "data": {
      "text/plain": [
       "24"
      ]
     },
     "execution_count": 149,
     "metadata": {},
     "output_type": "execute_result"
    }
   ],
   "source": [
    "mcd(72,48)"
   ]
  },
  {
   "cell_type": "markdown",
   "metadata": {},
   "source": [
    "## Ejercicio 3\n",
    "\n",
    "Implemente un algoritmo recursivo para obtener la parte entera de la división entre dos números enteros. (Pista: Asocie con la resta)."
   ]
  },
  {
   "cell_type": "code",
   "execution_count": 21,
   "metadata": {},
   "outputs": [
    {
     "data": {
      "text/plain": [
       "5"
      ]
     },
     "execution_count": 21,
     "metadata": {},
     "output_type": "execute_result"
    }
   ],
   "source": [
    "def divi_recur(a, b): #Se desarrolla bajo el supuesto que a es el dividendo y b el divisor\n",
    "    \"\"\"Función que devuelve el residuo (parte entera) entre la división de dos números enteros\"\"\"\n",
    "    if (a<b):\n",
    "        return 0 #Si \"a\" es menor que \"b\" devuelve el valor 0\n",
    "    else:\n",
    "        return 1 + divi_recur(a-b, b) #De lo contrario suma \"uno\" y repite el proceso de división recursiva \n",
    "                                      #hasta encontrar el valor deseado.\n",
    "    \n",
    "divi_recur(10,2)"
   ]
  },
  {
   "cell_type": "markdown",
   "metadata": {},
   "source": [
    "# Ejercicio 4\n",
    "\n",
    "En el ejemplo de clase (Coordinate), modifique el método constructor para que verifique que los argumentos $x$ y $y$ sean flotantes.  "
   ]
  },
  {
   "cell_type": "code",
   "execution_count": 140,
   "metadata": {},
   "outputs": [],
   "source": [
    "def imprimirIni():\n",
    "    print(\"Hola, me estoy creando...\")\n",
    "\n",
    "class Coordinate(object):\n",
    "    # Atributos (datos, funciones)\n",
    "    # ...\n",
    "    \n",
    "    # Método constructor\n",
    "    def __init__(self, x, y):\n",
    "        # ¿Cómo queremos inicializar el objeto?\n",
    "        imprimirIni()\n",
    "        self.x = int((x))\n",
    "        self.y = int((y))\n",
    "    # Método de distancia\n",
    "    # Calcula la distancia entre este objeto (self) y \n",
    "    # otro objeto Coordinate, denominado other\n",
    "    def distance(self, other):\n",
    "        x_sq = (self.x - other.x)**2\n",
    "        y_sq = (self.y - other.y)**2\n",
    "        return (x_sq + y_sq)**0.5\n",
    "    \n",
    "    # Método de impresión\n",
    "    def __str__(self):\n",
    "        return \"Objeto Coordinate <%0.2f, %0.2f>\" % (self.x, self.y)\n",
    "    \n",
    "    # Método para sumar coordenadas\n",
    "    def __add__(self, other):\n",
    "        res_x = self.x + other.x\n",
    "        res_y = self.y + other.y\n",
    "        return Coordinate(res_x, res_y)\n",
    "    \n",
    "    def __len__(self):\n",
    "        return 2"
   ]
  },
  {
   "cell_type": "code",
   "execution_count": 141,
   "metadata": {},
   "outputs": [
    {
     "name": "stdout",
     "output_type": "stream",
     "text": [
      "Hola, me estoy creando...\n",
      "Objeto Coordinate <1.00, 1.00>\n"
     ]
    }
   ],
   "source": [
    "uno = Coordinate(1,1)\n",
    "print(uno)"
   ]
  },
  {
   "cell_type": "code",
   "execution_count": 142,
   "metadata": {},
   "outputs": [
    {
     "name": "stdout",
     "output_type": "stream",
     "text": [
      "<class '__main__.Coordinate'>\n"
     ]
    }
   ],
   "source": [
    "print(type(uno))"
   ]
  },
  {
   "cell_type": "code",
   "execution_count": 144,
   "metadata": {},
   "outputs": [
    {
     "name": "stdout",
     "output_type": "stream",
     "text": [
      "Hola, me estoy creando...\n",
      "Objeto Coordinate <3.00, 6.00>\n",
      "<class '__main__.Coordinate'>\n"
     ]
    }
   ],
   "source": [
    "decimales = Coordinate(3.1415, 6)\n",
    "print(decimales)\n",
    "print(type(decimales))\n",
    "#Se pudo obtener modificando en el método constructor el tipo de valor que recibe self.x y self.y\n",
    "#En este caso se propuso self.x = int(float(x))"
   ]
  },
  {
   "cell_type": "code",
   "execution_count": 29,
   "metadata": {},
   "outputs": [],
   "source": [
    "def imprimirIni():\n",
    "    print(\"Hola, me estoy creando...\")\n",
    "\n",
    "class Coordinate2(object):\n",
    "    # Atributos (datos, funciones)\n",
    "    # ...\n",
    "    \n",
    "    # Método constructor\n",
    "    def __init__(self, x, y):\n",
    "        # ¿Cómo queremos inicializar el objeto?\n",
    "        imprimirIni()\n",
    "        self.x = float(x)\n",
    "        self.y = float(y)\n",
    "    # Método de distancia\n",
    "    # Calcula la distancia entre este objeto (self) y \n",
    "    # otro objeto Coordinate, denominado other\n",
    "    def distance(self, other):\n",
    "        x_sq = (self.x - other.x)**2\n",
    "        y_sq = (self.y - other.y)**2\n",
    "        return (x_sq + y_sq)**0.5\n",
    "    \n",
    "    # Método de impresión\n",
    "    def __str__(self):\n",
    "        return \"Objeto Coordinate <%0.2f, %0.2f>\" % (self.x, self.y)\n",
    "    \n",
    "    # Método para sumar coordenadas\n",
    "    def __add__(self, other):\n",
    "        res_x = self.x + other.x\n",
    "        res_y = self.y + other.y\n",
    "        return Coordinate(res_x, res_y)\n",
    "    \n",
    "    def __len__(self):\n",
    "        return 2"
   ]
  },
  {
   "cell_type": "code",
   "execution_count": 30,
   "metadata": {},
   "outputs": [
    {
     "name": "stdout",
     "output_type": "stream",
     "text": [
      "Hola, me estoy creando...\n",
      "<class '__main__.Coordinate2'>\n",
      "Objeto Coordinate <3.14, 7.00>\n"
     ]
    }
   ],
   "source": [
    "prueba = Coordinate2(3.1415, 7)\n",
    "print(type(prueba))\n",
    "print(prueba)\n",
    "#Se pudo obtener modificando en el método constructor el tipo de valor que recibe self.x y self.y\n",
    "#En este caso se propuso self.x = float(x)"
   ]
  },
  {
   "cell_type": "markdown",
   "metadata": {},
   "source": [
    "# Ejercicio 5\n",
    "\n",
    "1. Cree una clase llamada ``Persona``, que asigne una cadena a la propiedad ``nombre`` y un número entero a la propiedad ``edad``. Al imprimir el objeto, debe concatenar tanto el nombre con la edad. \n",
    "2. A la clase anterior, añada un método para sumar dos objetos de tipo ``Persona``. El resultado debe ser ambos nombres concatenados y la suma de ambas edades.\n",
    "3. Modifique la clase para que el objeto tenga otra propiedad llamada ``altura``. Cuando se solicite la longitud del objeto, muestre la altura. También debe modificar el método de impresión para que muestre la altura. ¿Qué pasa con el método de suma?\n",
    "\n"
   ]
  },
  {
   "cell_type": "code",
   "execution_count": 217,
   "metadata": {},
   "outputs": [],
   "source": [
    "#inciso 1\n",
    "class persona(object):\n",
    "    #Contiene los atributos, funciones y características de la clase \"persona\"\n",
    "    \n",
    "    def __init__(self, nombre, edad, altura):\n",
    "        self.nombre = str(nombre)\n",
    "        self.edad = int(edad)\n",
    "        self.altura = int(altura) #inciso 3\n",
    "    \n",
    "    #inciso 2\n",
    "    def __add__(self, other):\n",
    "        nombres = self.nombre + other.nombre\n",
    "        edades = self.edad + other.edad\n",
    "        alturas = self.altura + other.altura\n",
    "        return persona(nombres, edades, alturas)   \n",
    "    # Método de impresión\n",
    "    def __str__(self):\n",
    "        #return \"Te presento a %s de %s años\" % (self.nombre, self.edad)\n",
    "        return \"Te presento a %s de %s años con una altura de %s centímetros\" % (self.nombre, self.edad, self.altura)\n",
    "        #Se modificó la impresión para que considere la altura"
   ]
  },
  {
   "cell_type": "code",
   "execution_count": 218,
   "metadata": {},
   "outputs": [
    {
     "name": "stdout",
     "output_type": "stream",
     "text": [
      "Te presento a Carlos de 18 años con una altura de 185 centímetros\n"
     ]
    }
   ],
   "source": [
    "nombre1 = persona(\"Carlos\", 18, 185)\n",
    "print(nombre1)"
   ]
  },
  {
   "cell_type": "code",
   "execution_count": 219,
   "metadata": {},
   "outputs": [
    {
     "name": "stdout",
     "output_type": "stream",
     "text": [
      "Te presento a Maria de 17 años con una altura de 153 centímetros\n"
     ]
    }
   ],
   "source": [
    "nombre2 = persona(\"Maria\", 17, 153)\n",
    "print(nombre2)"
   ]
  },
  {
   "cell_type": "code",
   "execution_count": 207,
   "metadata": {},
   "outputs": [
    {
     "name": "stdout",
     "output_type": "stream",
     "text": [
      "Te presento a CarlosMaria de 35 años\n"
     ]
    }
   ],
   "source": [
    "#Inciso 2\n",
    "nombre1 + nombre2\n",
    "print(nombre1 + nombre2)\n",
    "#Resultado de la suma originalmente"
   ]
  },
  {
   "cell_type": "markdown",
   "metadata": {},
   "source": [
    "#### Inciso 3\n",
    "*Con respecto a la suma, al ingresar una nuevo atributo como la altura, debe modificarse en la clase para que pueda operararse"
   ]
  },
  {
   "cell_type": "code",
   "execution_count": 221,
   "metadata": {},
   "outputs": [
    {
     "name": "stdout",
     "output_type": "stream",
     "text": [
      "Te presento a CarlosMaria de 35 años con una altura de 338 centímetros\n"
     ]
    }
   ],
   "source": [
    "nombre1 + nombre2\n",
    "print(nombre1 + nombre2)"
   ]
  },
  {
   "cell_type": "markdown",
   "metadata": {},
   "source": [
    "# Ejercicio 6: Ejercicio de las canastas\n"
   ]
  },
  {
   "cell_type": "code",
   "execution_count": 156,
   "metadata": {},
   "outputs": [],
   "source": [
    "class canasta(object):\n",
    "    #Contiene los atributos, funciones y características de la clase \"canasta\"\n",
    "    \n",
    "    def __init__(self, c, o, p):\n",
    "        self.c = c #c de ceviche\n",
    "        self.o = o #o de ocio\n",
    "        self.p = p #pescado por ceviche\n",
    "        \n",
    "    def __str__(self):\n",
    "        return \"Objeto canasta <%0.2f, %0.2f, %0.2f>\" % (self.c, self.o, self.p)\n",
    "          \n",
    "    def __eq__(self, other):\n",
    "        utilidad_c1 = ((self.c)**0.30)*((self.o)**0.60)*((self.p))**0.10\n",
    "        utilidad_c2 = ((other.c)**0.30)*((other.o)**0.60)*((other.p))**0.10\n",
    "        if utilidad_c1 == utilidad_c2:\n",
    "            print(\"Las canastas son indiferentes\")\n",
    "            return True\n",
    "        else:\n",
    "            print(\"Las canastas no son indiferentes\")\n",
    "            return False\n",
    "        # Cómo saber si una canasta es indiferente a otra\n",
    "        # Devuelve True si self genera la misma utilidad\n",
    "        # que la canasta other, False en caso contrario\n",
    "      \n",
    "        \n",
    "    def __lt__(self, other):\n",
    "        utilidad_c1 = ((self.c)**0.30)*((self.o)**0.60)*((self.p))**0.10\n",
    "        utilidad_c2 = ((other.c)**0.30)*((other.o)**0.60)*((other.p))**0.10\n",
    "        if utilidad_c2 < utilidad_c1:\n",
    "            print(\"La primera canasta prefererible a la segunda\")\n",
    "            return True\n",
    "        else:\n",
    "            print(\"La primera canasta no es preferible con respecto a la segunda\")\n",
    "            return False\n",
    "        # Cómo saber si una canasta es preferible a otra\n",
    "        # Devuelve True si la canasta self es preferible a other\n",
    "        # False en caso contrario\n",
    "       "
   ]
  },
  {
   "cell_type": "code",
   "execution_count": 157,
   "metadata": {
    "scrolled": true
   },
   "outputs": [
    {
     "name": "stdout",
     "output_type": "stream",
     "text": [
      "Objeto canasta <1.00, 2.00, 3.00>\n",
      "<class '__main__.canasta'>\n",
      "<class '__main__.canasta'>\n",
      "Objeto canasta <4.00, 5.00, 6.00>\n",
      "<class '__main__.canasta'>\n",
      "Objeto canasta <1.00, 2.00, 3.00>\n"
     ]
    }
   ],
   "source": [
    "can1 = canasta(1,2,3)\n",
    "print(can1)\n",
    "print(type(can1))\n",
    "\n",
    "can2 = canasta(4,5,6)\n",
    "print(type(can2))\n",
    "print(can2)\n",
    "\n",
    "can3 = canasta(1,2,3)\n",
    "print(type(can3))\n",
    "print(can3)"
   ]
  },
  {
   "cell_type": "code",
   "execution_count": 158,
   "metadata": {},
   "outputs": [
    {
     "name": "stdout",
     "output_type": "stream",
     "text": [
      "Las canastas no son indiferentes\n"
     ]
    },
    {
     "data": {
      "text/plain": [
       "False"
      ]
     },
     "execution_count": 158,
     "metadata": {},
     "output_type": "execute_result"
    }
   ],
   "source": [
    "can1 == can2 \n",
    "#Como can1 y can 2 son diferentes, las canastas no son indiferentes"
   ]
  },
  {
   "cell_type": "code",
   "execution_count": 159,
   "metadata": {},
   "outputs": [
    {
     "name": "stdout",
     "output_type": "stream",
     "text": [
      "Las canastas son indiferentes\n"
     ]
    },
    {
     "data": {
      "text/plain": [
       "True"
      ]
     },
     "execution_count": 159,
     "metadata": {},
     "output_type": "execute_result"
    }
   ],
   "source": [
    "can1 == can3\n",
    "#como las canastas uno y tres tienen la misma utilidad son indiferentes una de la otra"
   ]
  },
  {
   "cell_type": "code",
   "execution_count": 160,
   "metadata": {},
   "outputs": [
    {
     "name": "stdout",
     "output_type": "stream",
     "text": [
      "La primera canasta no es preferible con respecto a la segunda\n"
     ]
    },
    {
     "data": {
      "text/plain": [
       "False"
      ]
     },
     "execution_count": 160,
     "metadata": {},
     "output_type": "execute_result"
    }
   ],
   "source": [
    "can3 < can1\n",
    "#Como la canasta 1 es igual a la 3, ninguna es preferible sobre la otra"
   ]
  },
  {
   "cell_type": "code",
   "execution_count": 161,
   "metadata": {},
   "outputs": [
    {
     "name": "stdout",
     "output_type": "stream",
     "text": [
      "La primera canasta no es preferible con respecto a la segunda\n"
     ]
    },
    {
     "data": {
      "text/plain": [
       "False"
      ]
     },
     "execution_count": 161,
     "metadata": {},
     "output_type": "execute_result"
    }
   ],
   "source": [
    "can1 < can2\n",
    "#Como la canasta 1 tiene menor utilidad no es preferible sobre canasta 2"
   ]
  },
  {
   "cell_type": "code",
   "execution_count": 162,
   "metadata": {},
   "outputs": [
    {
     "name": "stdout",
     "output_type": "stream",
     "text": [
      "La primera canasta prefererible a la segunda\n"
     ]
    },
    {
     "data": {
      "text/plain": [
       "True"
      ]
     },
     "execution_count": 162,
     "metadata": {},
     "output_type": "execute_result"
    }
   ],
   "source": [
    "can2 < can1\n",
    "#Como la canasta 2 tiene mayor utilidad si es preferible sobre la primera"
   ]
  },
  {
   "cell_type": "markdown",
   "metadata": {},
   "source": [
    "# Ejercicio 7: Ejercicio de encriptación César"
   ]
  },
  {
   "cell_type": "code",
   "execution_count": 18,
   "metadata": {},
   "outputs": [],
   "source": [
    "class mensaje(object):\n",
    "    \n",
    "    def __init__(self, msg, rot = 3):\n",
    "        self.msg = msg\n",
    "        self.rot = rot\n",
    "        \n",
    "    def encriptar(self):\n",
    "        ''' Este método devuelve la cadena encriptada con \n",
    "        cifrado César con rotación rot'''\n",
    "        msg_v1 = []\n",
    "        msg_v2 = []\n",
    "        codigo = ''\n",
    "                \n",
    "        for x in range(len(self.msg)):\n",
    "            elem = self.msg[x]\n",
    "            msg_v1.append(elem)\n",
    "            \n",
    "        for y in range(len(msg_v1)):\n",
    "            ciph = ord(msg_v1[y]) + int(self.rot)\n",
    "            msg_v2.append(ciph)\n",
    "        \n",
    "        for w in range(len(msg_v2)):\n",
    "            codigo += chr(msg_v2[w])\n",
    "            \n",
    "            \n",
    "        return codigo\n",
    "    \n",
    "    def __str__(self):\n",
    "        return  \"El mensaje encriptado es %s\" % self.msg\n",
    "        \n"
   ]
  },
  {
   "cell_type": "code",
   "execution_count": 19,
   "metadata": {},
   "outputs": [],
   "source": [
    "msg1 = mensaje(\"Maria\")"
   ]
  },
  {
   "cell_type": "code",
   "execution_count": 20,
   "metadata": {},
   "outputs": [
    {
     "name": "stdout",
     "output_type": "stream",
     "text": [
      "Pduld\n"
     ]
    }
   ],
   "source": [
    "Cesar = msg1.encriptar()\n",
    "print(Cesar)"
   ]
  },
  {
   "cell_type": "code",
   "execution_count": 21,
   "metadata": {},
   "outputs": [
    {
     "name": "stdout",
     "output_type": "stream",
     "text": [
      "Whq#slhgdg#Pdxulflr#whq#slhgdg\n",
      "Dsldgdwh#Urguljr#sru#idyru\n"
     ]
    }
   ],
   "source": [
    "#Otros ejemplos\n",
    "msg2 = mensaje(\"Ten piedad Mauricio ten piedad\")\n",
    "Suplica_1 = msg2.encriptar()\n",
    "print(Suplica_1)\n",
    "\n",
    "msg3 = mensaje(\"Apiadate Rodrigo por favor\")\n",
    "Suplica_2 = msg3.encriptar()\n",
    "print(Suplica_2)"
   ]
  }
 ],
 "metadata": {
  "kernelspec": {
   "display_name": "Python 3",
   "language": "python",
   "name": "python3"
  },
  "language_info": {
   "codemirror_mode": {
    "name": "ipython",
    "version": 3
   },
   "file_extension": ".py",
   "mimetype": "text/x-python",
   "name": "python",
   "nbconvert_exporter": "python",
   "pygments_lexer": "ipython3",
   "version": "3.7.4"
  }
 },
 "nbformat": 4,
 "nbformat_minor": 2
}
